{
  "nbformat": 4,
  "nbformat_minor": 0,
  "metadata": {
    "kernelspec": {
      "display_name": "Python 3",
      "language": "python",
      "name": "python3"
    },
    "language_info": {
      "codemirror_mode": {
        "name": "ipython",
        "version": 3
      },
      "file_extension": ".py",
      "mimetype": "text/x-python",
      "name": "python",
      "nbconvert_exporter": "python",
      "pygments_lexer": "ipython3",
      "version": "3.7.6"
    },
    "colab": {
      "name": "Machine Learning Project.ipynb",
      "provenance": [],
      "collapsed_sections": []
    },
    "accelerator": "GPU"
  },
  "cells": [
    {
      "cell_type": "code",
      "metadata": {
        "id": "88jgXfvvE_0M",
        "colab_type": "code",
        "colab": {}
      },
      "source": [
        "import numpy as np\n",
        "import pandas as pd\n",
        "import xgboost as xgb\n",
        "import gc\n",
        "import numpy as np # for efficient numerical computations\n",
        "import pandas as pd # for data management\n",
        "import matplotlib.pyplot as plt #to customize visualizations\n",
        "import seaborn as sns #for easy/common visualizations\n",
        "from sklearn.model_selection import cross_val_score\n",
        "from sklearn.model_selection import StratifiedKFold\n",
        "from sklearn.model_selection import cross_validate\n",
        "from sklearn.ensemble import RandomForestRegressor\n",
        "from sklearn.model_selection import GridSearchCV\n",
        "from sklearn.preprocessing import LabelEncoder\n",
        "from sklearn.model_selection import cross_val_score\n",
        "from sklearn import linear_model\n",
        "from sklearn import tree\n",
        "from sklearn import svm\n",
        "from sklearn import metrics\n",
        "from sklearn.svm import SVC\n",
        "from sklearn.neighbors import KNeighborsRegressor\n",
        "from sklearn.ensemble import RandomForestRegressor\n",
        "from sklearn.ensemble import AdaBoostClassifier\n",
        "from sklearn.ensemble import GradientBoostingRegressor\n",
        "\n",
        "#Importing xgboost\n",
        "from xgboost import XGBRegressor\n",
        "\n",
        "import warnings\n",
        "warnings.simplefilter(\"ignore\")\n",
        "\n",
        "#Importing other required libraries\n",
        "import os\n",
        "import re\n",
        "import csv\n",
        "import operator\n",
        "import random\n",
        "import datetime\n",
        "from datetime import datetime\n",
        "import warnings\n",
        "color = sns.color_palette()\n",
        "%matplotlib inline\n",
        "\n",
        "random.seed(47)"
      ],
      "execution_count": 0,
      "outputs": []
    },
    {
      "cell_type": "code",
      "metadata": {
        "id": "Zrl5VveeE_0T",
        "colab_type": "code",
        "outputId": "2d6819d5-542f-49fc-a636-c003a9cfba09",
        "colab": {
          "base_uri": "https://localhost:8080/",
          "height": 34
        }
      },
      "source": [
        "from google.colab import drive\n",
        "drive.mount('/content/drive',force_remount=False)"
      ],
      "execution_count": 2,
      "outputs": [
        {
          "output_type": "stream",
          "text": [
            "Drive already mounted at /content/drive; to attempt to forcibly remount, call drive.mount(\"/content/drive\", force_remount=True).\n"
          ],
          "name": "stdout"
        }
      ]
    },
    {
      "cell_type": "code",
      "metadata": {
        "id": "Y5dXRZl_TA-M",
        "colab_type": "code",
        "outputId": "1096a2ff-52b6-4438-b6ac-09f3c79808f5",
        "colab": {
          "base_uri": "https://localhost:8080/",
          "height": 34
        }
      },
      "source": [
        "cd drive/'My Drive'"
      ],
      "execution_count": 3,
      "outputs": [
        {
          "output_type": "stream",
          "text": [
            "/content/drive/My Drive\n"
          ],
          "name": "stdout"
        }
      ]
    },
    {
      "cell_type": "code",
      "metadata": {
        "id": "-6JIe61aE_0Y",
        "colab_type": "code",
        "colab": {}
      },
      "source": [
        "train = pd.read_csv('data/zillow-prize-1/train_2016_v2.csv')\n",
        "prop = pd.read_csv('data/zillow-prize-1/properties_2016.csv')\n",
        "sample = pd.read_csv('data/zillow-prize-1/sample_submission.csv')"
      ],
      "execution_count": 0,
      "outputs": []
    },
    {
      "cell_type": "code",
      "metadata": {
        "id": "fxWuIvKx6VmI",
        "colab_type": "code",
        "colab": {
          "base_uri": "https://localhost:8080/",
          "height": 50
        },
        "outputId": "0632fe30-28d9-4376-9106-caec5f60e0b6"
      },
      "source": [
        "#set all columns as dtype float32\n",
        "for c, dtype in zip(prop.columns, prop.dtypes):\n",
        "\tif dtype == np.float64:\n",
        "\t\tprop[c] = prop[c].astype(np.float32)\n",
        "\n",
        "print('Creating training set ...')\n",
        "#merge the training set adn the properties set\n",
        "train = train.merge(prop, how='left', on='parcelid')\n",
        "\n",
        "\n",
        "for c in train.dtypes[train.dtypes == 'float64'].index.values:\n",
        "    train[c].fillna(train[c].median(), inplace = True)\n",
        "    \n",
        "#Imputing Null values with -1 and encoding Objects\n",
        "for c in train.columns:\n",
        "    train[c]=train[c].fillna(-1)\n",
        "    if train[c].dtype == object:\n",
        "        lbl = LabelEncoder()\n",
        "        lbl.fit(list(train[c].values))\n",
        "        train[c] = lbl.transform(list(train[c].values))\n",
        "         \n",
        "#Dropping out outliers\n",
        "train=train[ train.logerror > -0.417 ]\n",
        "train=train[ train.logerror < 0.418 ]\n",
        "\n",
        "#drop the useless features\n",
        "x_train = train.drop(['parcelid', 'logerror', 'transactiondate', 'propertyzoningdesc', 'propertycountylandusecode'], axis=1)\n",
        "y_train = train['logerror']\n",
        "print(x_train.shape, y_train.shape)\n",
        "\n",
        "train_columns = x_train.columns\n",
        "\n",
        "for c in x_train.dtypes[x_train.dtypes == object].index.values:\n",
        "    x_train[c] = (x_train[c] == True)\n",
        "\n",
        "# del df_train; gc.collect()\n"
      ],
      "execution_count": 17,
      "outputs": [
        {
          "output_type": "stream",
          "text": [
            "Creating training set ...\n",
            "(88570, 55) (88570,)\n"
          ],
          "name": "stdout"
        }
      ]
    },
    {
      "cell_type": "code",
      "metadata": {
        "id": "QNI64Weiu5QD",
        "colab_type": "code",
        "colab": {
          "base_uri": "https://localhost:8080/",
          "height": 1000
        },
        "outputId": "21c5596d-0771-4396-ac66-509005496dc6"
      },
      "source": [
        "# Printing out all the Variables\n",
        "dtype_df = train.dtypes.reset_index()\n",
        "dtype_df.columns = [\"Count\", \"Column Type\"]\n",
        "print (dtype_df)\n",
        "\n",
        "#Testing various Regression models\n",
        "allModels = {} # Dictionary of models and their respective losses\n",
        "\n",
        "print(\"Running XGB Regression\")\n",
        "model = xgb.XGBRegressor()\n",
        "predicted = cross_val_score(model, x_train, y_train, scoring='neg_mean_absolute_error', cv=10)\n",
        "allModels[model] = predicted.mean()\n",
        "\n",
        "print(\"Running Linear Regression\")\n",
        "model = linear_model.LinearRegression()\n",
        "predicted = cross_val_score(model, x_train, y_train, scoring='neg_mean_absolute_error', cv=10)\n",
        "allModels[model] = predicted.mean()\n",
        "\n",
        "print(\"Running Bayesian Ridge Regression\")\n",
        "model = linear_model.BayesianRidge()\n",
        "predicted = cross_val_score(model, x_train, y_train, scoring='neg_mean_absolute_error', cv=10)\n",
        "allModels[model] = predicted.mean()\n",
        "\n",
        "print(\"Running Ridge Regression\")\n",
        "model = linear_model.Ridge()\n",
        "predicted = cross_val_score(model, x_train, y_train, scoring='neg_mean_absolute_error', cv=10)\n",
        "allModels[model] = predicted.mean()\n",
        "\n",
        "print(\"Running Lasso Regression\")\n",
        "model = linear_model.Lasso()\n",
        "predicted = cross_val_score(model, x_train, y_train, scoring='neg_mean_absolute_error', cv=10)\n",
        "allModels[model] = predicted.mean()\n",
        "\n",
        "print(\"Running Random Forest\")\n",
        "model = RandomForestRegressor()\n",
        "predicted = cross_val_score(model, x_train, y_train, scoring='neg_mean_absolute_error', cv=10)\n",
        "allModels[model] = predicted.mean()\n",
        "\n",
        "print(\"Running KNN\")\n",
        "model = KNeighborsRegressor()\n",
        "predicted = cross_val_score(model, x_train, y_train, scoring='neg_mean_absolute_error', cv=10)\n",
        "allModels[model] = predicted.mean()\n",
        "\n",
        "print(\"Running Gradient Boosted Regressor\")\n",
        "model = GradientBoostingRegressor()\n",
        "predicted = cross_val_score(model, x_train, y_train, scoring='neg_mean_absolute_error', cv=10)\n",
        "allModels[model] = predicted.mean()\n",
        "\n",
        "print(\"Returning the best model\")\n",
        "sortedModels = sorted(allModels.items(), key=operator.itemgetter(1), reverse=True)\n",
        "for model in sortedModels:\n",
        "    print ('Model:', model[0])\n",
        "    print ('Loss:', model[1])"
      ],
      "execution_count": 13,
      "outputs": [
        {
          "output_type": "stream",
          "text": [
            "                           Count Column Type\n",
            "0                       parcelid       int64\n",
            "1                       logerror     float64\n",
            "2                transactiondate       int64\n",
            "3          airconditioningtypeid     float32\n",
            "4       architecturalstyletypeid     float32\n",
            "5                   basementsqft     float32\n",
            "6                    bathroomcnt     float32\n",
            "7                     bedroomcnt     float32\n",
            "8            buildingclasstypeid     float32\n",
            "9          buildingqualitytypeid     float32\n",
            "10             calculatedbathnbr     float32\n",
            "11                    decktypeid     float32\n",
            "12      finishedfloor1squarefeet     float32\n",
            "13  calculatedfinishedsquarefeet     float32\n",
            "14          finishedsquarefeet12     float32\n",
            "15          finishedsquarefeet13     float32\n",
            "16          finishedsquarefeet15     float32\n",
            "17          finishedsquarefeet50     float32\n",
            "18           finishedsquarefeet6     float32\n",
            "19                          fips     float32\n",
            "20                  fireplacecnt     float32\n",
            "21                   fullbathcnt     float32\n",
            "22                  garagecarcnt     float32\n",
            "23               garagetotalsqft     float32\n",
            "24                hashottuborspa       int64\n",
            "25         heatingorsystemtypeid     float32\n",
            "26                      latitude     float32\n",
            "27                     longitude     float32\n",
            "28             lotsizesquarefeet     float32\n",
            "29                       poolcnt     float32\n",
            "30                   poolsizesum     float32\n",
            "31                  pooltypeid10     float32\n",
            "32                   pooltypeid2     float32\n",
            "33                   pooltypeid7     float32\n",
            "34     propertycountylandusecode       int64\n",
            "35         propertylandusetypeid     float32\n",
            "36            propertyzoningdesc       int64\n",
            "37        rawcensustractandblock     float32\n",
            "38                  regionidcity     float32\n",
            "39                regionidcounty     float32\n",
            "40          regionidneighborhood     float32\n",
            "41                   regionidzip     float32\n",
            "42                       roomcnt     float32\n",
            "43                   storytypeid     float32\n",
            "44           threequarterbathnbr     float32\n",
            "45        typeconstructiontypeid     float32\n",
            "46                       unitcnt     float32\n",
            "47            yardbuildingsqft17     float32\n",
            "48            yardbuildingsqft26     float32\n",
            "49                     yearbuilt     float32\n",
            "50               numberofstories     float32\n",
            "51                 fireplaceflag       int64\n",
            "52    structuretaxvaluedollarcnt     float32\n",
            "53             taxvaluedollarcnt     float32\n",
            "54                assessmentyear     float32\n",
            "55         landtaxvaluedollarcnt     float32\n",
            "56                     taxamount     float32\n",
            "57            taxdelinquencyflag       int64\n",
            "58            taxdelinquencyyear     float32\n",
            "59           censustractandblock     float32\n",
            "Running XGB Regression\n",
            "[01:39:00] WARNING: /workspace/src/objective/regression_obj.cu:152: reg:linear is now deprecated in favor of reg:squarederror.\n",
            "[01:39:12] WARNING: /workspace/src/objective/regression_obj.cu:152: reg:linear is now deprecated in favor of reg:squarederror.\n",
            "[01:39:24] WARNING: /workspace/src/objective/regression_obj.cu:152: reg:linear is now deprecated in favor of reg:squarederror.\n",
            "[01:39:36] WARNING: /workspace/src/objective/regression_obj.cu:152: reg:linear is now deprecated in favor of reg:squarederror.\n",
            "[01:39:48] WARNING: /workspace/src/objective/regression_obj.cu:152: reg:linear is now deprecated in favor of reg:squarederror.\n",
            "[01:39:59] WARNING: /workspace/src/objective/regression_obj.cu:152: reg:linear is now deprecated in favor of reg:squarederror.\n",
            "[01:40:11] WARNING: /workspace/src/objective/regression_obj.cu:152: reg:linear is now deprecated in favor of reg:squarederror.\n",
            "[01:40:22] WARNING: /workspace/src/objective/regression_obj.cu:152: reg:linear is now deprecated in favor of reg:squarederror.\n",
            "[01:40:34] WARNING: /workspace/src/objective/regression_obj.cu:152: reg:linear is now deprecated in favor of reg:squarederror.\n",
            "[01:40:46] WARNING: /workspace/src/objective/regression_obj.cu:152: reg:linear is now deprecated in favor of reg:squarederror.\n",
            "Running Linear Regression\n",
            "Running Bayesian Ridge Regression\n",
            "Running Ridge Regression\n",
            "Running Lasso Regression\n",
            "Running Random Forest\n",
            "Running KNN\n",
            "Running Gradient Boosted Regressor\n",
            "Returning the best model\n",
            "Model: XGBRegressor(base_score=0.5, booster='gbtree', colsample_bylevel=1,\n",
            "             colsample_bynode=1, colsample_bytree=1, gamma=0,\n",
            "             importance_type='gain', learning_rate=0.1, max_delta_step=0,\n",
            "             max_depth=3, min_child_weight=1, missing=None, n_estimators=100,\n",
            "             n_jobs=1, nthread=None, objective='reg:linear', random_state=0,\n",
            "             reg_alpha=0, reg_lambda=1, scale_pos_weight=1, seed=None,\n",
            "             silent=None, subsample=1, verbosity=1)\n",
            "Loss: -0.05296459113451378\n",
            "Model: GradientBoostingRegressor(alpha=0.9, ccp_alpha=0.0, criterion='friedman_mse',\n",
            "                          init=None, learning_rate=0.1, loss='ls', max_depth=3,\n",
            "                          max_features=None, max_leaf_nodes=None,\n",
            "                          min_impurity_decrease=0.0, min_impurity_split=None,\n",
            "                          min_samples_leaf=1, min_samples_split=2,\n",
            "                          min_weight_fraction_leaf=0.0, n_estimators=100,\n",
            "                          n_iter_no_change=None, presort='deprecated',\n",
            "                          random_state=None, subsample=1.0, tol=0.0001,\n",
            "                          validation_fraction=0.1, verbose=0, warm_start=False)\n",
            "Loss: -0.05297280185730648\n",
            "Model: BayesianRidge(alpha_1=1e-06, alpha_2=1e-06, alpha_init=None,\n",
            "              compute_score=False, copy_X=True, fit_intercept=True,\n",
            "              lambda_1=1e-06, lambda_2=1e-06, lambda_init=None, n_iter=300,\n",
            "              normalize=False, tol=0.001, verbose=False)\n",
            "Loss: -0.05322917418323462\n",
            "Model: Ridge(alpha=1.0, copy_X=True, fit_intercept=True, max_iter=None,\n",
            "      normalize=False, random_state=None, solver='auto', tol=0.001)\n",
            "Loss: -0.053235558334564705\n",
            "Model: LinearRegression(copy_X=True, fit_intercept=True, n_jobs=None, normalize=False)\n",
            "Loss: -0.05323920735782868\n",
            "Model: Lasso(alpha=1.0, copy_X=True, fit_intercept=True, max_iter=1000,\n",
            "      normalize=False, positive=False, precompute=False, random_state=None,\n",
            "      selection='cyclic', tol=0.0001, warm_start=False)\n",
            "Loss: -0.05333130544897023\n",
            "Model: RandomForestRegressor(bootstrap=True, ccp_alpha=0.0, criterion='mse',\n",
            "                      max_depth=None, max_features='auto', max_leaf_nodes=None,\n",
            "                      max_samples=None, min_impurity_decrease=0.0,\n",
            "                      min_impurity_split=None, min_samples_leaf=1,\n",
            "                      min_samples_split=2, min_weight_fraction_leaf=0.0,\n",
            "                      n_estimators=100, n_jobs=None, oob_score=False,\n",
            "                      random_state=None, verbose=0, warm_start=False)\n",
            "Loss: -0.05479388907411237\n",
            "Model: KNeighborsRegressor(algorithm='auto', leaf_size=30, metric='minkowski',\n",
            "                    metric_params=None, n_jobs=None, n_neighbors=5, p=2,\n",
            "                    weights='uniform')\n",
            "Loss: -0.06144669075307666\n"
          ],
          "name": "stdout"
        }
      ]
    },
    {
      "cell_type": "code",
      "metadata": {
        "id": "p7iDzXPTmubt",
        "colab_type": "code",
        "colab": {
          "base_uri": "https://localhost:8080/",
          "height": 1000
        },
        "outputId": "e4a387f0-4138-4f26-bc2d-85c0d54fe357"
      },
      "source": [
        "#consider the best model and do hyperparameter tuning on the model using gridsearch\n",
        "#scoring using negative mean absolute error\n",
        "print(\"Running Parameter optimization on the Best Model\")\n",
        "\n",
        "params = {  \n",
        "            \"n_estimators\": [10,100,200],\n",
        "            \"max_depth\": [3,5,7],\n",
        "            \"min_child_weight\": [1,3,5]\n",
        "         }\n",
        "\n",
        "xgb_model = XGBRegressor()  \n",
        "xgb_cv    = GridSearchCV(xgb_model,params,verbose = 10,scoring='neg_mean_absolute_error')\n",
        "xgb_cv.fit(x_train, y_train)  \n",
        "\n",
        "print ('Best Score-', xgb_cv.best_score_)\n",
        "print ('Best Parameters-', xgb_cv.best_params_)\n",
        "print ('Best Estimator-', xgb_cv.best_estimator_)"
      ],
      "execution_count": 8,
      "outputs": [
        {
          "output_type": "stream",
          "text": [
            "Running Parameter optimization on the Best Model\n",
            "Fitting 5 folds for each of 27 candidates, totalling 135 fits\n",
            "[CV] max_depth=3, min_child_weight=1, n_estimators=10 ................\n",
            "[00:55:47] WARNING: /workspace/src/objective/regression_obj.cu:152: reg:linear is now deprecated in favor of reg:squarederror.\n"
          ],
          "name": "stdout"
        },
        {
          "output_type": "stream",
          "text": [
            "[Parallel(n_jobs=1)]: Using backend SequentialBackend with 1 concurrent workers.\n"
          ],
          "name": "stderr"
        },
        {
          "output_type": "stream",
          "text": [
            "[CV]  max_depth=3, min_child_weight=1, n_estimators=10, score=-0.176, total=   1.4s\n",
            "[CV] max_depth=3, min_child_weight=1, n_estimators=10 ................\n",
            "[00:55:48] WARNING: /workspace/src/objective/regression_obj.cu:152: reg:linear is now deprecated in favor of reg:squarederror.\n"
          ],
          "name": "stdout"
        },
        {
          "output_type": "stream",
          "text": [
            "[Parallel(n_jobs=1)]: Done   1 out of   1 | elapsed:    1.4s remaining:    0.0s\n"
          ],
          "name": "stderr"
        },
        {
          "output_type": "stream",
          "text": [
            "[CV]  max_depth=3, min_child_weight=1, n_estimators=10, score=-0.182, total=   1.4s\n",
            "[CV] max_depth=3, min_child_weight=1, n_estimators=10 ................\n",
            "[00:55:49] WARNING: /workspace/src/objective/regression_obj.cu:152: reg:linear is now deprecated in favor of reg:squarederror.\n"
          ],
          "name": "stdout"
        },
        {
          "output_type": "stream",
          "text": [
            "[Parallel(n_jobs=1)]: Done   2 out of   2 | elapsed:    2.8s remaining:    0.0s\n"
          ],
          "name": "stderr"
        },
        {
          "output_type": "stream",
          "text": [
            "[CV]  max_depth=3, min_child_weight=1, n_estimators=10, score=-0.180, total=   1.4s\n",
            "[CV] max_depth=3, min_child_weight=1, n_estimators=10 ................\n",
            "[00:55:51] WARNING: /workspace/src/objective/regression_obj.cu:152: reg:linear is now deprecated in favor of reg:squarederror.\n"
          ],
          "name": "stdout"
        },
        {
          "output_type": "stream",
          "text": [
            "[Parallel(n_jobs=1)]: Done   3 out of   3 | elapsed:    4.1s remaining:    0.0s\n"
          ],
          "name": "stderr"
        },
        {
          "output_type": "stream",
          "text": [
            "[CV]  max_depth=3, min_child_weight=1, n_estimators=10, score=-0.177, total=   1.4s\n",
            "[CV] max_depth=3, min_child_weight=1, n_estimators=10 ................\n",
            "[00:55:52] WARNING: /workspace/src/objective/regression_obj.cu:152: reg:linear is now deprecated in favor of reg:squarederror.\n"
          ],
          "name": "stdout"
        },
        {
          "output_type": "stream",
          "text": [
            "[Parallel(n_jobs=1)]: Done   4 out of   4 | elapsed:    5.5s remaining:    0.0s\n"
          ],
          "name": "stderr"
        },
        {
          "output_type": "stream",
          "text": [
            "[CV]  max_depth=3, min_child_weight=1, n_estimators=10, score=-0.172, total=   1.4s\n",
            "[CV] max_depth=3, min_child_weight=1, n_estimators=100 ...............\n",
            "[00:55:53] WARNING: /workspace/src/objective/regression_obj.cu:152: reg:linear is now deprecated in favor of reg:squarederror.\n"
          ],
          "name": "stdout"
        },
        {
          "output_type": "stream",
          "text": [
            "[Parallel(n_jobs=1)]: Done   5 out of   5 | elapsed:    6.9s remaining:    0.0s\n"
          ],
          "name": "stderr"
        },
        {
          "output_type": "stream",
          "text": [
            "[CV]  max_depth=3, min_child_weight=1, n_estimators=100, score=-0.055, total=  10.3s\n",
            "[CV] max_depth=3, min_child_weight=1, n_estimators=100 ...............\n",
            "[00:56:04] WARNING: /workspace/src/objective/regression_obj.cu:152: reg:linear is now deprecated in favor of reg:squarederror.\n"
          ],
          "name": "stdout"
        },
        {
          "output_type": "stream",
          "text": [
            "[Parallel(n_jobs=1)]: Done   6 out of   6 | elapsed:   17.2s remaining:    0.0s\n"
          ],
          "name": "stderr"
        },
        {
          "output_type": "stream",
          "text": [
            "[CV]  max_depth=3, min_child_weight=1, n_estimators=100, score=-0.054, total=  10.5s\n",
            "[CV] max_depth=3, min_child_weight=1, n_estimators=100 ...............\n",
            "[00:56:14] WARNING: /workspace/src/objective/regression_obj.cu:152: reg:linear is now deprecated in favor of reg:squarederror.\n"
          ],
          "name": "stdout"
        },
        {
          "output_type": "stream",
          "text": [
            "[Parallel(n_jobs=1)]: Done   7 out of   7 | elapsed:   27.7s remaining:    0.0s\n"
          ],
          "name": "stderr"
        },
        {
          "output_type": "stream",
          "text": [
            "[CV]  max_depth=3, min_child_weight=1, n_estimators=100, score=-0.052, total=  10.3s\n",
            "[CV] max_depth=3, min_child_weight=1, n_estimators=100 ...............\n",
            "[00:56:25] WARNING: /workspace/src/objective/regression_obj.cu:152: reg:linear is now deprecated in favor of reg:squarederror.\n"
          ],
          "name": "stdout"
        },
        {
          "output_type": "stream",
          "text": [
            "[Parallel(n_jobs=1)]: Done   8 out of   8 | elapsed:   38.0s remaining:    0.0s\n"
          ],
          "name": "stderr"
        },
        {
          "output_type": "stream",
          "text": [
            "[CV]  max_depth=3, min_child_weight=1, n_estimators=100, score=-0.052, total=  10.3s\n",
            "[CV] max_depth=3, min_child_weight=1, n_estimators=100 ...............\n",
            "[00:56:35] WARNING: /workspace/src/objective/regression_obj.cu:152: reg:linear is now deprecated in favor of reg:squarederror.\n"
          ],
          "name": "stdout"
        },
        {
          "output_type": "stream",
          "text": [
            "[Parallel(n_jobs=1)]: Done   9 out of   9 | elapsed:   48.3s remaining:    0.0s\n"
          ],
          "name": "stderr"
        },
        {
          "output_type": "stream",
          "text": [
            "[CV]  max_depth=3, min_child_weight=1, n_estimators=100, score=-0.052, total=  10.3s\n",
            "[CV] max_depth=3, min_child_weight=1, n_estimators=200 ...............\n",
            "[00:56:45] WARNING: /workspace/src/objective/regression_obj.cu:152: reg:linear is now deprecated in favor of reg:squarederror.\n",
            "[CV]  max_depth=3, min_child_weight=1, n_estimators=200, score=-0.055, total=  20.5s\n",
            "[CV] max_depth=3, min_child_weight=1, n_estimators=200 ...............\n",
            "[00:57:06] WARNING: /workspace/src/objective/regression_obj.cu:152: reg:linear is now deprecated in favor of reg:squarederror.\n",
            "[CV]  max_depth=3, min_child_weight=1, n_estimators=200, score=-0.054, total=  20.3s\n",
            "[CV] max_depth=3, min_child_weight=1, n_estimators=200 ...............\n",
            "[00:57:26] WARNING: /workspace/src/objective/regression_obj.cu:152: reg:linear is now deprecated in favor of reg:squarederror.\n",
            "[CV]  max_depth=3, min_child_weight=1, n_estimators=200, score=-0.052, total=  20.2s\n",
            "[CV] max_depth=3, min_child_weight=1, n_estimators=200 ...............\n",
            "[00:57:46] WARNING: /workspace/src/objective/regression_obj.cu:152: reg:linear is now deprecated in favor of reg:squarederror.\n",
            "[CV]  max_depth=3, min_child_weight=1, n_estimators=200, score=-0.052, total=  20.3s\n",
            "[CV] max_depth=3, min_child_weight=1, n_estimators=200 ...............\n",
            "[00:58:07] WARNING: /workspace/src/objective/regression_obj.cu:152: reg:linear is now deprecated in favor of reg:squarederror.\n",
            "[CV]  max_depth=3, min_child_weight=1, n_estimators=200, score=-0.052, total=  20.1s\n",
            "[CV] max_depth=3, min_child_weight=3, n_estimators=10 ................\n",
            "[00:58:27] WARNING: /workspace/src/objective/regression_obj.cu:152: reg:linear is now deprecated in favor of reg:squarederror.\n",
            "[CV]  max_depth=3, min_child_weight=3, n_estimators=10, score=-0.176, total=   1.4s\n",
            "[CV] max_depth=3, min_child_weight=3, n_estimators=10 ................\n",
            "[00:58:28] WARNING: /workspace/src/objective/regression_obj.cu:152: reg:linear is now deprecated in favor of reg:squarederror.\n",
            "[CV]  max_depth=3, min_child_weight=3, n_estimators=10, score=-0.182, total=   1.4s\n",
            "[CV] max_depth=3, min_child_weight=3, n_estimators=10 ................\n",
            "[00:58:29] WARNING: /workspace/src/objective/regression_obj.cu:152: reg:linear is now deprecated in favor of reg:squarederror.\n",
            "[CV]  max_depth=3, min_child_weight=3, n_estimators=10, score=-0.180, total=   1.4s\n",
            "[CV] max_depth=3, min_child_weight=3, n_estimators=10 ................\n",
            "[00:58:31] WARNING: /workspace/src/objective/regression_obj.cu:152: reg:linear is now deprecated in favor of reg:squarederror.\n",
            "[CV]  max_depth=3, min_child_weight=3, n_estimators=10, score=-0.177, total=   1.3s\n",
            "[CV] max_depth=3, min_child_weight=3, n_estimators=10 ................\n",
            "[00:58:32] WARNING: /workspace/src/objective/regression_obj.cu:152: reg:linear is now deprecated in favor of reg:squarederror.\n",
            "[CV]  max_depth=3, min_child_weight=3, n_estimators=10, score=-0.172, total=   1.4s\n",
            "[CV] max_depth=3, min_child_weight=3, n_estimators=100 ...............\n",
            "[00:58:33] WARNING: /workspace/src/objective/regression_obj.cu:152: reg:linear is now deprecated in favor of reg:squarederror.\n",
            "[CV]  max_depth=3, min_child_weight=3, n_estimators=100, score=-0.055, total=  10.2s\n",
            "[CV] max_depth=3, min_child_weight=3, n_estimators=100 ...............\n",
            "[00:58:44] WARNING: /workspace/src/objective/regression_obj.cu:152: reg:linear is now deprecated in favor of reg:squarederror.\n",
            "[CV]  max_depth=3, min_child_weight=3, n_estimators=100, score=-0.054, total=  10.3s\n",
            "[CV] max_depth=3, min_child_weight=3, n_estimators=100 ...............\n",
            "[00:58:54] WARNING: /workspace/src/objective/regression_obj.cu:152: reg:linear is now deprecated in favor of reg:squarederror.\n",
            "[CV]  max_depth=3, min_child_weight=3, n_estimators=100, score=-0.052, total=  10.2s\n",
            "[CV] max_depth=3, min_child_weight=3, n_estimators=100 ...............\n",
            "[00:59:04] WARNING: /workspace/src/objective/regression_obj.cu:152: reg:linear is now deprecated in favor of reg:squarederror.\n",
            "[CV]  max_depth=3, min_child_weight=3, n_estimators=100, score=-0.052, total=  10.2s\n",
            "[CV] max_depth=3, min_child_weight=3, n_estimators=100 ...............\n",
            "[00:59:14] WARNING: /workspace/src/objective/regression_obj.cu:152: reg:linear is now deprecated in favor of reg:squarederror.\n",
            "[CV]  max_depth=3, min_child_weight=3, n_estimators=100, score=-0.052, total=  10.2s\n",
            "[CV] max_depth=3, min_child_weight=3, n_estimators=200 ...............\n",
            "[00:59:25] WARNING: /workspace/src/objective/regression_obj.cu:152: reg:linear is now deprecated in favor of reg:squarederror.\n",
            "[CV]  max_depth=3, min_child_weight=3, n_estimators=200, score=-0.055, total=  20.3s\n",
            "[CV] max_depth=3, min_child_weight=3, n_estimators=200 ...............\n",
            "[00:59:45] WARNING: /workspace/src/objective/regression_obj.cu:152: reg:linear is now deprecated in favor of reg:squarederror.\n",
            "[CV]  max_depth=3, min_child_weight=3, n_estimators=200, score=-0.054, total=  20.4s\n",
            "[CV] max_depth=3, min_child_weight=3, n_estimators=200 ...............\n",
            "[01:00:05] WARNING: /workspace/src/objective/regression_obj.cu:152: reg:linear is now deprecated in favor of reg:squarederror.\n",
            "[CV]  max_depth=3, min_child_weight=3, n_estimators=200, score=-0.052, total=  20.3s\n",
            "[CV] max_depth=3, min_child_weight=3, n_estimators=200 ...............\n",
            "[01:00:26] WARNING: /workspace/src/objective/regression_obj.cu:152: reg:linear is now deprecated in favor of reg:squarederror.\n",
            "[CV]  max_depth=3, min_child_weight=3, n_estimators=200, score=-0.052, total=  20.2s\n",
            "[CV] max_depth=3, min_child_weight=3, n_estimators=200 ...............\n",
            "[01:00:46] WARNING: /workspace/src/objective/regression_obj.cu:152: reg:linear is now deprecated in favor of reg:squarederror.\n",
            "[CV]  max_depth=3, min_child_weight=3, n_estimators=200, score=-0.052, total=  20.2s\n",
            "[CV] max_depth=3, min_child_weight=5, n_estimators=10 ................\n",
            "[01:01:06] WARNING: /workspace/src/objective/regression_obj.cu:152: reg:linear is now deprecated in favor of reg:squarederror.\n",
            "[CV]  max_depth=3, min_child_weight=5, n_estimators=10, score=-0.176, total=   1.4s\n",
            "[CV] max_depth=3, min_child_weight=5, n_estimators=10 ................\n",
            "[01:01:07] WARNING: /workspace/src/objective/regression_obj.cu:152: reg:linear is now deprecated in favor of reg:squarederror.\n",
            "[CV]  max_depth=3, min_child_weight=5, n_estimators=10, score=-0.182, total=   1.4s\n",
            "[CV] max_depth=3, min_child_weight=5, n_estimators=10 ................\n",
            "[01:01:09] WARNING: /workspace/src/objective/regression_obj.cu:152: reg:linear is now deprecated in favor of reg:squarederror.\n",
            "[CV]  max_depth=3, min_child_weight=5, n_estimators=10, score=-0.180, total=   1.4s\n",
            "[CV] max_depth=3, min_child_weight=5, n_estimators=10 ................\n",
            "[01:01:10] WARNING: /workspace/src/objective/regression_obj.cu:152: reg:linear is now deprecated in favor of reg:squarederror.\n",
            "[CV]  max_depth=3, min_child_weight=5, n_estimators=10, score=-0.177, total=   1.4s\n",
            "[CV] max_depth=3, min_child_weight=5, n_estimators=10 ................\n",
            "[01:01:11] WARNING: /workspace/src/objective/regression_obj.cu:152: reg:linear is now deprecated in favor of reg:squarederror.\n",
            "[CV]  max_depth=3, min_child_weight=5, n_estimators=10, score=-0.172, total=   1.4s\n",
            "[CV] max_depth=3, min_child_weight=5, n_estimators=100 ...............\n",
            "[01:01:13] WARNING: /workspace/src/objective/regression_obj.cu:152: reg:linear is now deprecated in favor of reg:squarederror.\n",
            "[CV]  max_depth=3, min_child_weight=5, n_estimators=100, score=-0.055, total=  10.3s\n",
            "[CV] max_depth=3, min_child_weight=5, n_estimators=100 ...............\n",
            "[01:01:23] WARNING: /workspace/src/objective/regression_obj.cu:152: reg:linear is now deprecated in favor of reg:squarederror.\n",
            "[CV]  max_depth=3, min_child_weight=5, n_estimators=100, score=-0.054, total=  10.3s\n",
            "[CV] max_depth=3, min_child_weight=5, n_estimators=100 ...............\n",
            "[01:01:33] WARNING: /workspace/src/objective/regression_obj.cu:152: reg:linear is now deprecated in favor of reg:squarederror.\n",
            "[CV]  max_depth=3, min_child_weight=5, n_estimators=100, score=-0.052, total=  10.2s\n",
            "[CV] max_depth=3, min_child_weight=5, n_estimators=100 ...............\n",
            "[01:01:44] WARNING: /workspace/src/objective/regression_obj.cu:152: reg:linear is now deprecated in favor of reg:squarederror.\n",
            "[CV]  max_depth=3, min_child_weight=5, n_estimators=100, score=-0.052, total=  10.2s\n",
            "[CV] max_depth=3, min_child_weight=5, n_estimators=100 ...............\n",
            "[01:01:54] WARNING: /workspace/src/objective/regression_obj.cu:152: reg:linear is now deprecated in favor of reg:squarederror.\n",
            "[CV]  max_depth=3, min_child_weight=5, n_estimators=100, score=-0.052, total=  10.3s\n",
            "[CV] max_depth=3, min_child_weight=5, n_estimators=200 ...............\n",
            "[01:02:04] WARNING: /workspace/src/objective/regression_obj.cu:152: reg:linear is now deprecated in favor of reg:squarederror.\n",
            "[CV]  max_depth=3, min_child_weight=5, n_estimators=200, score=-0.055, total=  20.2s\n",
            "[CV] max_depth=3, min_child_weight=5, n_estimators=200 ...............\n",
            "[01:02:24] WARNING: /workspace/src/objective/regression_obj.cu:152: reg:linear is now deprecated in favor of reg:squarederror.\n",
            "[CV]  max_depth=3, min_child_weight=5, n_estimators=200, score=-0.054, total=  20.4s\n",
            "[CV] max_depth=3, min_child_weight=5, n_estimators=200 ...............\n",
            "[01:02:45] WARNING: /workspace/src/objective/regression_obj.cu:152: reg:linear is now deprecated in favor of reg:squarederror.\n",
            "[CV]  max_depth=3, min_child_weight=5, n_estimators=200, score=-0.052, total=  20.1s\n",
            "[CV] max_depth=3, min_child_weight=5, n_estimators=200 ...............\n",
            "[01:03:05] WARNING: /workspace/src/objective/regression_obj.cu:152: reg:linear is now deprecated in favor of reg:squarederror.\n",
            "[CV]  max_depth=3, min_child_weight=5, n_estimators=200, score=-0.052, total=  20.2s\n",
            "[CV] max_depth=3, min_child_weight=5, n_estimators=200 ...............\n",
            "[01:03:25] WARNING: /workspace/src/objective/regression_obj.cu:152: reg:linear is now deprecated in favor of reg:squarederror.\n",
            "[CV]  max_depth=3, min_child_weight=5, n_estimators=200, score=-0.052, total=  20.0s\n",
            "[CV] max_depth=5, min_child_weight=1, n_estimators=10 ................\n",
            "[01:03:45] WARNING: /workspace/src/objective/regression_obj.cu:152: reg:linear is now deprecated in favor of reg:squarederror.\n",
            "[CV]  max_depth=5, min_child_weight=1, n_estimators=10, score=-0.176, total=   2.0s\n",
            "[CV] max_depth=5, min_child_weight=1, n_estimators=10 ................\n",
            "[01:03:47] WARNING: /workspace/src/objective/regression_obj.cu:152: reg:linear is now deprecated in favor of reg:squarederror.\n",
            "[CV]  max_depth=5, min_child_weight=1, n_estimators=10, score=-0.182, total=   2.0s\n",
            "[CV] max_depth=5, min_child_weight=1, n_estimators=10 ................\n",
            "[01:03:49] WARNING: /workspace/src/objective/regression_obj.cu:152: reg:linear is now deprecated in favor of reg:squarederror.\n",
            "[CV]  max_depth=5, min_child_weight=1, n_estimators=10, score=-0.180, total=   2.0s\n",
            "[CV] max_depth=5, min_child_weight=1, n_estimators=10 ................\n",
            "[01:03:51] WARNING: /workspace/src/objective/regression_obj.cu:152: reg:linear is now deprecated in favor of reg:squarederror.\n",
            "[CV]  max_depth=5, min_child_weight=1, n_estimators=10, score=-0.177, total=   2.0s\n",
            "[CV] max_depth=5, min_child_weight=1, n_estimators=10 ................\n",
            "[01:03:53] WARNING: /workspace/src/objective/regression_obj.cu:152: reg:linear is now deprecated in favor of reg:squarederror.\n",
            "[CV]  max_depth=5, min_child_weight=1, n_estimators=10, score=-0.172, total=   2.0s\n",
            "[CV] max_depth=5, min_child_weight=1, n_estimators=100 ...............\n",
            "[01:03:55] WARNING: /workspace/src/objective/regression_obj.cu:152: reg:linear is now deprecated in favor of reg:squarederror.\n",
            "[CV]  max_depth=5, min_child_weight=1, n_estimators=100, score=-0.055, total=  16.2s\n",
            "[CV] max_depth=5, min_child_weight=1, n_estimators=100 ...............\n",
            "[01:04:11] WARNING: /workspace/src/objective/regression_obj.cu:152: reg:linear is now deprecated in favor of reg:squarederror.\n",
            "[CV]  max_depth=5, min_child_weight=1, n_estimators=100, score=-0.054, total=  16.3s\n",
            "[CV] max_depth=5, min_child_weight=1, n_estimators=100 ...............\n",
            "[01:04:28] WARNING: /workspace/src/objective/regression_obj.cu:152: reg:linear is now deprecated in favor of reg:squarederror.\n",
            "[CV]  max_depth=5, min_child_weight=1, n_estimators=100, score=-0.052, total=  16.2s\n",
            "[CV] max_depth=5, min_child_weight=1, n_estimators=100 ...............\n",
            "[01:04:44] WARNING: /workspace/src/objective/regression_obj.cu:152: reg:linear is now deprecated in favor of reg:squarederror.\n",
            "[CV]  max_depth=5, min_child_weight=1, n_estimators=100, score=-0.052, total=  16.1s\n",
            "[CV] max_depth=5, min_child_weight=1, n_estimators=100 ...............\n",
            "[01:05:00] WARNING: /workspace/src/objective/regression_obj.cu:152: reg:linear is now deprecated in favor of reg:squarederror.\n",
            "[CV]  max_depth=5, min_child_weight=1, n_estimators=100, score=-0.052, total=  16.3s\n",
            "[CV] max_depth=5, min_child_weight=1, n_estimators=200 ...............\n",
            "[01:05:16] WARNING: /workspace/src/objective/regression_obj.cu:152: reg:linear is now deprecated in favor of reg:squarederror.\n",
            "[CV]  max_depth=5, min_child_weight=1, n_estimators=200, score=-0.055, total=  32.4s\n",
            "[CV] max_depth=5, min_child_weight=1, n_estimators=200 ...............\n",
            "[01:05:49] WARNING: /workspace/src/objective/regression_obj.cu:152: reg:linear is now deprecated in favor of reg:squarederror.\n",
            "[CV]  max_depth=5, min_child_weight=1, n_estimators=200, score=-0.054, total=  32.0s\n",
            "[CV] max_depth=5, min_child_weight=1, n_estimators=200 ...............\n",
            "[01:06:21] WARNING: /workspace/src/objective/regression_obj.cu:152: reg:linear is now deprecated in favor of reg:squarederror.\n",
            "[CV]  max_depth=5, min_child_weight=1, n_estimators=200, score=-0.053, total=  32.0s\n",
            "[CV] max_depth=5, min_child_weight=1, n_estimators=200 ...............\n",
            "[01:06:53] WARNING: /workspace/src/objective/regression_obj.cu:152: reg:linear is now deprecated in favor of reg:squarederror.\n",
            "[CV]  max_depth=5, min_child_weight=1, n_estimators=200, score=-0.052, total=  31.8s\n",
            "[CV] max_depth=5, min_child_weight=1, n_estimators=200 ...............\n",
            "[01:07:25] WARNING: /workspace/src/objective/regression_obj.cu:152: reg:linear is now deprecated in favor of reg:squarederror.\n",
            "[CV]  max_depth=5, min_child_weight=1, n_estimators=200, score=-0.052, total=  32.3s\n",
            "[CV] max_depth=5, min_child_weight=3, n_estimators=10 ................\n",
            "[01:07:57] WARNING: /workspace/src/objective/regression_obj.cu:152: reg:linear is now deprecated in favor of reg:squarederror.\n",
            "[CV]  max_depth=5, min_child_weight=3, n_estimators=10, score=-0.176, total=   2.0s\n",
            "[CV] max_depth=5, min_child_weight=3, n_estimators=10 ................\n",
            "[01:07:59] WARNING: /workspace/src/objective/regression_obj.cu:152: reg:linear is now deprecated in favor of reg:squarederror.\n",
            "[CV]  max_depth=5, min_child_weight=3, n_estimators=10, score=-0.182, total=   2.0s\n",
            "[CV] max_depth=5, min_child_weight=3, n_estimators=10 ................\n",
            "[01:08:01] WARNING: /workspace/src/objective/regression_obj.cu:152: reg:linear is now deprecated in favor of reg:squarederror.\n",
            "[CV]  max_depth=5, min_child_weight=3, n_estimators=10, score=-0.180, total=   2.0s\n",
            "[CV] max_depth=5, min_child_weight=3, n_estimators=10 ................\n",
            "[01:08:03] WARNING: /workspace/src/objective/regression_obj.cu:152: reg:linear is now deprecated in favor of reg:squarederror.\n",
            "[CV]  max_depth=5, min_child_weight=3, n_estimators=10, score=-0.177, total=   2.0s\n",
            "[CV] max_depth=5, min_child_weight=3, n_estimators=10 ................\n",
            "[01:08:05] WARNING: /workspace/src/objective/regression_obj.cu:152: reg:linear is now deprecated in favor of reg:squarederror.\n",
            "[CV]  max_depth=5, min_child_weight=3, n_estimators=10, score=-0.172, total=   2.0s\n",
            "[CV] max_depth=5, min_child_weight=3, n_estimators=100 ...............\n",
            "[01:08:07] WARNING: /workspace/src/objective/regression_obj.cu:152: reg:linear is now deprecated in favor of reg:squarederror.\n",
            "[CV]  max_depth=5, min_child_weight=3, n_estimators=100, score=-0.055, total=  15.9s\n",
            "[CV] max_depth=5, min_child_weight=3, n_estimators=100 ...............\n",
            "[01:08:23] WARNING: /workspace/src/objective/regression_obj.cu:152: reg:linear is now deprecated in favor of reg:squarederror.\n",
            "[CV]  max_depth=5, min_child_weight=3, n_estimators=100, score=-0.054, total=  16.0s\n",
            "[CV] max_depth=5, min_child_weight=3, n_estimators=100 ...............\n",
            "[01:08:39] WARNING: /workspace/src/objective/regression_obj.cu:152: reg:linear is now deprecated in favor of reg:squarederror.\n",
            "[CV]  max_depth=5, min_child_weight=3, n_estimators=100, score=-0.052, total=  16.0s\n",
            "[CV] max_depth=5, min_child_weight=3, n_estimators=100 ...............\n",
            "[01:08:55] WARNING: /workspace/src/objective/regression_obj.cu:152: reg:linear is now deprecated in favor of reg:squarederror.\n",
            "[CV]  max_depth=5, min_child_weight=3, n_estimators=100, score=-0.052, total=  16.0s\n",
            "[CV] max_depth=5, min_child_weight=3, n_estimators=100 ...............\n",
            "[01:09:11] WARNING: /workspace/src/objective/regression_obj.cu:152: reg:linear is now deprecated in favor of reg:squarederror.\n",
            "[CV]  max_depth=5, min_child_weight=3, n_estimators=100, score=-0.052, total=  16.1s\n",
            "[CV] max_depth=5, min_child_weight=3, n_estimators=200 ...............\n",
            "[01:09:27] WARNING: /workspace/src/objective/regression_obj.cu:152: reg:linear is now deprecated in favor of reg:squarederror.\n",
            "[CV]  max_depth=5, min_child_weight=3, n_estimators=200, score=-0.055, total=  31.6s\n",
            "[CV] max_depth=5, min_child_weight=3, n_estimators=200 ...............\n",
            "[01:09:58] WARNING: /workspace/src/objective/regression_obj.cu:152: reg:linear is now deprecated in favor of reg:squarederror.\n",
            "[CV]  max_depth=5, min_child_weight=3, n_estimators=200, score=-0.054, total=  31.9s\n",
            "[CV] max_depth=5, min_child_weight=3, n_estimators=200 ...............\n",
            "[01:10:30] WARNING: /workspace/src/objective/regression_obj.cu:152: reg:linear is now deprecated in favor of reg:squarederror.\n",
            "[CV]  max_depth=5, min_child_weight=3, n_estimators=200, score=-0.053, total=  31.7s\n",
            "[CV] max_depth=5, min_child_weight=3, n_estimators=200 ...............\n",
            "[01:11:02] WARNING: /workspace/src/objective/regression_obj.cu:152: reg:linear is now deprecated in favor of reg:squarederror.\n",
            "[CV]  max_depth=5, min_child_weight=3, n_estimators=200, score=-0.052, total=  31.5s\n",
            "[CV] max_depth=5, min_child_weight=3, n_estimators=200 ...............\n",
            "[01:11:33] WARNING: /workspace/src/objective/regression_obj.cu:152: reg:linear is now deprecated in favor of reg:squarederror.\n",
            "[CV]  max_depth=5, min_child_weight=3, n_estimators=200, score=-0.052, total=  31.8s\n",
            "[CV] max_depth=5, min_child_weight=5, n_estimators=10 ................\n",
            "[01:12:05] WARNING: /workspace/src/objective/regression_obj.cu:152: reg:linear is now deprecated in favor of reg:squarederror.\n",
            "[CV]  max_depth=5, min_child_weight=5, n_estimators=10, score=-0.176, total=   1.9s\n",
            "[CV] max_depth=5, min_child_weight=5, n_estimators=10 ................\n",
            "[01:12:07] WARNING: /workspace/src/objective/regression_obj.cu:152: reg:linear is now deprecated in favor of reg:squarederror.\n",
            "[CV]  max_depth=5, min_child_weight=5, n_estimators=10, score=-0.182, total=   1.9s\n",
            "[CV] max_depth=5, min_child_weight=5, n_estimators=10 ................\n",
            "[01:12:09] WARNING: /workspace/src/objective/regression_obj.cu:152: reg:linear is now deprecated in favor of reg:squarederror.\n",
            "[CV]  max_depth=5, min_child_weight=5, n_estimators=10, score=-0.180, total=   1.9s\n",
            "[CV] max_depth=5, min_child_weight=5, n_estimators=10 ................\n",
            "[01:12:11] WARNING: /workspace/src/objective/regression_obj.cu:152: reg:linear is now deprecated in favor of reg:squarederror.\n",
            "[CV]  max_depth=5, min_child_weight=5, n_estimators=10, score=-0.177, total=   1.9s\n",
            "[CV] max_depth=5, min_child_weight=5, n_estimators=10 ................\n",
            "[01:12:13] WARNING: /workspace/src/objective/regression_obj.cu:152: reg:linear is now deprecated in favor of reg:squarederror.\n",
            "[CV]  max_depth=5, min_child_weight=5, n_estimators=10, score=-0.172, total=   1.9s\n",
            "[CV] max_depth=5, min_child_weight=5, n_estimators=100 ...............\n",
            "[01:12:15] WARNING: /workspace/src/objective/regression_obj.cu:152: reg:linear is now deprecated in favor of reg:squarederror.\n",
            "[CV]  max_depth=5, min_child_weight=5, n_estimators=100, score=-0.055, total=  15.7s\n",
            "[CV] max_depth=5, min_child_weight=5, n_estimators=100 ...............\n",
            "[01:12:31] WARNING: /workspace/src/objective/regression_obj.cu:152: reg:linear is now deprecated in favor of reg:squarederror.\n",
            "[CV]  max_depth=5, min_child_weight=5, n_estimators=100, score=-0.054, total=  15.8s\n",
            "[CV] max_depth=5, min_child_weight=5, n_estimators=100 ...............\n",
            "[01:12:46] WARNING: /workspace/src/objective/regression_obj.cu:152: reg:linear is now deprecated in favor of reg:squarederror.\n",
            "[CV]  max_depth=5, min_child_weight=5, n_estimators=100, score=-0.052, total=  15.8s\n",
            "[CV] max_depth=5, min_child_weight=5, n_estimators=100 ...............\n",
            "[01:13:02] WARNING: /workspace/src/objective/regression_obj.cu:152: reg:linear is now deprecated in favor of reg:squarederror.\n",
            "[CV]  max_depth=5, min_child_weight=5, n_estimators=100, score=-0.052, total=  15.9s\n",
            "[CV] max_depth=5, min_child_weight=5, n_estimators=100 ...............\n",
            "[01:13:18] WARNING: /workspace/src/objective/regression_obj.cu:152: reg:linear is now deprecated in favor of reg:squarederror.\n",
            "[CV]  max_depth=5, min_child_weight=5, n_estimators=100, score=-0.052, total=  15.8s\n",
            "[CV] max_depth=5, min_child_weight=5, n_estimators=200 ...............\n",
            "[01:13:34] WARNING: /workspace/src/objective/regression_obj.cu:152: reg:linear is now deprecated in favor of reg:squarederror.\n",
            "[CV]  max_depth=5, min_child_weight=5, n_estimators=200, score=-0.055, total=  31.3s\n",
            "[CV] max_depth=5, min_child_weight=5, n_estimators=200 ...............\n",
            "[01:14:05] WARNING: /workspace/src/objective/regression_obj.cu:152: reg:linear is now deprecated in favor of reg:squarederror.\n",
            "[CV]  max_depth=5, min_child_weight=5, n_estimators=200, score=-0.054, total=  31.6s\n",
            "[CV] max_depth=5, min_child_weight=5, n_estimators=200 ...............\n",
            "[01:14:37] WARNING: /workspace/src/objective/regression_obj.cu:152: reg:linear is now deprecated in favor of reg:squarederror.\n",
            "[CV]  max_depth=5, min_child_weight=5, n_estimators=200, score=-0.053, total=  31.8s\n",
            "[CV] max_depth=5, min_child_weight=5, n_estimators=200 ...............\n",
            "[01:15:09] WARNING: /workspace/src/objective/regression_obj.cu:152: reg:linear is now deprecated in favor of reg:squarederror.\n",
            "[CV]  max_depth=5, min_child_weight=5, n_estimators=200, score=-0.052, total=  31.8s\n",
            "[CV] max_depth=5, min_child_weight=5, n_estimators=200 ...............\n",
            "[01:15:40] WARNING: /workspace/src/objective/regression_obj.cu:152: reg:linear is now deprecated in favor of reg:squarederror.\n",
            "[CV]  max_depth=5, min_child_weight=5, n_estimators=200, score=-0.052, total=  32.4s\n",
            "[CV] max_depth=7, min_child_weight=1, n_estimators=10 ................\n",
            "[01:16:13] WARNING: /workspace/src/objective/regression_obj.cu:152: reg:linear is now deprecated in favor of reg:squarederror.\n",
            "[CV]  max_depth=7, min_child_weight=1, n_estimators=10, score=-0.176, total=   2.7s\n",
            "[CV] max_depth=7, min_child_weight=1, n_estimators=10 ................\n",
            "[01:16:15] WARNING: /workspace/src/objective/regression_obj.cu:152: reg:linear is now deprecated in favor of reg:squarederror.\n",
            "[CV]  max_depth=7, min_child_weight=1, n_estimators=10, score=-0.182, total=   2.7s\n",
            "[CV] max_depth=7, min_child_weight=1, n_estimators=10 ................\n",
            "[01:16:18] WARNING: /workspace/src/objective/regression_obj.cu:152: reg:linear is now deprecated in favor of reg:squarederror.\n",
            "[CV]  max_depth=7, min_child_weight=1, n_estimators=10, score=-0.180, total=   2.7s\n",
            "[CV] max_depth=7, min_child_weight=1, n_estimators=10 ................\n",
            "[01:16:21] WARNING: /workspace/src/objective/regression_obj.cu:152: reg:linear is now deprecated in favor of reg:squarederror.\n",
            "[CV]  max_depth=7, min_child_weight=1, n_estimators=10, score=-0.177, total=   2.7s\n",
            "[CV] max_depth=7, min_child_weight=1, n_estimators=10 ................\n",
            "[01:16:24] WARNING: /workspace/src/objective/regression_obj.cu:152: reg:linear is now deprecated in favor of reg:squarederror.\n",
            "[CV]  max_depth=7, min_child_weight=1, n_estimators=10, score=-0.172, total=   2.7s\n",
            "[CV] max_depth=7, min_child_weight=1, n_estimators=100 ...............\n",
            "[01:16:26] WARNING: /workspace/src/objective/regression_obj.cu:152: reg:linear is now deprecated in favor of reg:squarederror.\n",
            "[CV]  max_depth=7, min_child_weight=1, n_estimators=100, score=-0.055, total=  23.1s\n",
            "[CV] max_depth=7, min_child_weight=1, n_estimators=100 ...............\n",
            "[01:16:49] WARNING: /workspace/src/objective/regression_obj.cu:152: reg:linear is now deprecated in favor of reg:squarederror.\n",
            "[CV]  max_depth=7, min_child_weight=1, n_estimators=100, score=-0.054, total=  23.4s\n",
            "[CV] max_depth=7, min_child_weight=1, n_estimators=100 ...............\n",
            "[01:17:13] WARNING: /workspace/src/objective/regression_obj.cu:152: reg:linear is now deprecated in favor of reg:squarederror.\n",
            "[CV]  max_depth=7, min_child_weight=1, n_estimators=100, score=-0.052, total=  23.4s\n",
            "[CV] max_depth=7, min_child_weight=1, n_estimators=100 ...............\n",
            "[01:17:36] WARNING: /workspace/src/objective/regression_obj.cu:152: reg:linear is now deprecated in favor of reg:squarederror.\n",
            "[CV]  max_depth=7, min_child_weight=1, n_estimators=100, score=-0.052, total=  22.9s\n",
            "[CV] max_depth=7, min_child_weight=1, n_estimators=100 ...............\n",
            "[01:17:59] WARNING: /workspace/src/objective/regression_obj.cu:152: reg:linear is now deprecated in favor of reg:squarederror.\n",
            "[CV]  max_depth=7, min_child_weight=1, n_estimators=100, score=-0.052, total=  22.9s\n",
            "[CV] max_depth=7, min_child_weight=1, n_estimators=200 ...............\n",
            "[01:18:22] WARNING: /workspace/src/objective/regression_obj.cu:152: reg:linear is now deprecated in favor of reg:squarederror.\n",
            "[CV]  max_depth=7, min_child_weight=1, n_estimators=200, score=-0.055, total=  45.0s\n",
            "[CV] max_depth=7, min_child_weight=1, n_estimators=200 ...............\n",
            "[01:19:07] WARNING: /workspace/src/objective/regression_obj.cu:152: reg:linear is now deprecated in favor of reg:squarederror.\n",
            "[CV]  max_depth=7, min_child_weight=1, n_estimators=200, score=-0.055, total=  44.8s\n",
            "[CV] max_depth=7, min_child_weight=1, n_estimators=200 ...............\n",
            "[01:19:52] WARNING: /workspace/src/objective/regression_obj.cu:152: reg:linear is now deprecated in favor of reg:squarederror.\n",
            "[CV]  max_depth=7, min_child_weight=1, n_estimators=200, score=-0.053, total=  45.4s\n",
            "[CV] max_depth=7, min_child_weight=1, n_estimators=200 ...............\n",
            "[01:20:37] WARNING: /workspace/src/objective/regression_obj.cu:152: reg:linear is now deprecated in favor of reg:squarederror.\n",
            "[CV]  max_depth=7, min_child_weight=1, n_estimators=200, score=-0.052, total=  44.2s\n",
            "[CV] max_depth=7, min_child_weight=1, n_estimators=200 ...............\n",
            "[01:21:21] WARNING: /workspace/src/objective/regression_obj.cu:152: reg:linear is now deprecated in favor of reg:squarederror.\n",
            "[CV]  max_depth=7, min_child_weight=1, n_estimators=200, score=-0.052, total=  45.8s\n",
            "[CV] max_depth=7, min_child_weight=3, n_estimators=10 ................\n",
            "[01:22:07] WARNING: /workspace/src/objective/regression_obj.cu:152: reg:linear is now deprecated in favor of reg:squarederror.\n",
            "[CV]  max_depth=7, min_child_weight=3, n_estimators=10, score=-0.176, total=   2.7s\n",
            "[CV] max_depth=7, min_child_weight=3, n_estimators=10 ................\n",
            "[01:22:10] WARNING: /workspace/src/objective/regression_obj.cu:152: reg:linear is now deprecated in favor of reg:squarederror.\n",
            "[CV]  max_depth=7, min_child_weight=3, n_estimators=10, score=-0.182, total=   2.8s\n",
            "[CV] max_depth=7, min_child_weight=3, n_estimators=10 ................\n",
            "[01:22:13] WARNING: /workspace/src/objective/regression_obj.cu:152: reg:linear is now deprecated in favor of reg:squarederror.\n",
            "[CV]  max_depth=7, min_child_weight=3, n_estimators=10, score=-0.180, total=   2.8s\n",
            "[CV] max_depth=7, min_child_weight=3, n_estimators=10 ................\n",
            "[01:22:16] WARNING: /workspace/src/objective/regression_obj.cu:152: reg:linear is now deprecated in favor of reg:squarederror.\n",
            "[CV]  max_depth=7, min_child_weight=3, n_estimators=10, score=-0.177, total=   2.7s\n",
            "[CV] max_depth=7, min_child_weight=3, n_estimators=10 ................\n",
            "[01:22:18] WARNING: /workspace/src/objective/regression_obj.cu:152: reg:linear is now deprecated in favor of reg:squarederror.\n",
            "[CV]  max_depth=7, min_child_weight=3, n_estimators=10, score=-0.172, total=   2.7s\n",
            "[CV] max_depth=7, min_child_weight=3, n_estimators=100 ...............\n",
            "[01:22:21] WARNING: /workspace/src/objective/regression_obj.cu:152: reg:linear is now deprecated in favor of reg:squarederror.\n",
            "[CV]  max_depth=7, min_child_weight=3, n_estimators=100, score=-0.055, total=  23.5s\n",
            "[CV] max_depth=7, min_child_weight=3, n_estimators=100 ...............\n",
            "[01:22:45] WARNING: /workspace/src/objective/regression_obj.cu:152: reg:linear is now deprecated in favor of reg:squarederror.\n",
            "[CV]  max_depth=7, min_child_weight=3, n_estimators=100, score=-0.054, total=  22.7s\n",
            "[CV] max_depth=7, min_child_weight=3, n_estimators=100 ...............\n",
            "[01:23:07] WARNING: /workspace/src/objective/regression_obj.cu:152: reg:linear is now deprecated in favor of reg:squarederror.\n",
            "[CV]  max_depth=7, min_child_weight=3, n_estimators=100, score=-0.052, total=  22.6s\n",
            "[CV] max_depth=7, min_child_weight=3, n_estimators=100 ...............\n",
            "[01:23:30] WARNING: /workspace/src/objective/regression_obj.cu:152: reg:linear is now deprecated in favor of reg:squarederror.\n",
            "[CV]  max_depth=7, min_child_weight=3, n_estimators=100, score=-0.052, total=  22.6s\n",
            "[CV] max_depth=7, min_child_weight=3, n_estimators=100 ...............\n",
            "[01:23:52] WARNING: /workspace/src/objective/regression_obj.cu:152: reg:linear is now deprecated in favor of reg:squarederror.\n",
            "[CV]  max_depth=7, min_child_weight=3, n_estimators=100, score=-0.052, total=  22.7s\n",
            "[CV] max_depth=7, min_child_weight=3, n_estimators=200 ...............\n",
            "[01:24:15] WARNING: /workspace/src/objective/regression_obj.cu:152: reg:linear is now deprecated in favor of reg:squarederror.\n",
            "[CV]  max_depth=7, min_child_weight=3, n_estimators=200, score=-0.055, total=  43.7s\n",
            "[CV] max_depth=7, min_child_weight=3, n_estimators=200 ...............\n",
            "[01:24:59] WARNING: /workspace/src/objective/regression_obj.cu:152: reg:linear is now deprecated in favor of reg:squarederror.\n",
            "[CV]  max_depth=7, min_child_weight=3, n_estimators=200, score=-0.055, total=  43.5s\n",
            "[CV] max_depth=7, min_child_weight=3, n_estimators=200 ...............\n",
            "[01:25:42] WARNING: /workspace/src/objective/regression_obj.cu:152: reg:linear is now deprecated in favor of reg:squarederror.\n",
            "[CV]  max_depth=7, min_child_weight=3, n_estimators=200, score=-0.053, total=  43.4s\n",
            "[CV] max_depth=7, min_child_weight=3, n_estimators=200 ...............\n",
            "[01:26:26] WARNING: /workspace/src/objective/regression_obj.cu:152: reg:linear is now deprecated in favor of reg:squarederror.\n",
            "[CV]  max_depth=7, min_child_weight=3, n_estimators=200, score=-0.052, total=  43.6s\n",
            "[CV] max_depth=7, min_child_weight=3, n_estimators=200 ...............\n",
            "[01:27:09] WARNING: /workspace/src/objective/regression_obj.cu:152: reg:linear is now deprecated in favor of reg:squarederror.\n",
            "[CV]  max_depth=7, min_child_weight=3, n_estimators=200, score=-0.053, total=  44.0s\n",
            "[CV] max_depth=7, min_child_weight=5, n_estimators=10 ................\n",
            "[01:27:53] WARNING: /workspace/src/objective/regression_obj.cu:152: reg:linear is now deprecated in favor of reg:squarederror.\n",
            "[CV]  max_depth=7, min_child_weight=5, n_estimators=10, score=-0.176, total=   2.6s\n",
            "[CV] max_depth=7, min_child_weight=5, n_estimators=10 ................\n",
            "[01:27:56] WARNING: /workspace/src/objective/regression_obj.cu:152: reg:linear is now deprecated in favor of reg:squarederror.\n",
            "[CV]  max_depth=7, min_child_weight=5, n_estimators=10, score=-0.182, total=   2.6s\n",
            "[CV] max_depth=7, min_child_weight=5, n_estimators=10 ................\n",
            "[01:27:58] WARNING: /workspace/src/objective/regression_obj.cu:152: reg:linear is now deprecated in favor of reg:squarederror.\n",
            "[CV]  max_depth=7, min_child_weight=5, n_estimators=10, score=-0.180, total=   2.6s\n",
            "[CV] max_depth=7, min_child_weight=5, n_estimators=10 ................\n",
            "[01:28:01] WARNING: /workspace/src/objective/regression_obj.cu:152: reg:linear is now deprecated in favor of reg:squarederror.\n",
            "[CV]  max_depth=7, min_child_weight=5, n_estimators=10, score=-0.177, total=   2.6s\n",
            "[CV] max_depth=7, min_child_weight=5, n_estimators=10 ................\n",
            "[01:28:04] WARNING: /workspace/src/objective/regression_obj.cu:152: reg:linear is now deprecated in favor of reg:squarederror.\n",
            "[CV]  max_depth=7, min_child_weight=5, n_estimators=10, score=-0.172, total=   2.6s\n",
            "[CV] max_depth=7, min_child_weight=5, n_estimators=100 ...............\n",
            "[01:28:06] WARNING: /workspace/src/objective/regression_obj.cu:152: reg:linear is now deprecated in favor of reg:squarederror.\n",
            "[CV]  max_depth=7, min_child_weight=5, n_estimators=100, score=-0.055, total=  21.6s\n",
            "[CV] max_depth=7, min_child_weight=5, n_estimators=100 ...............\n",
            "[01:28:28] WARNING: /workspace/src/objective/regression_obj.cu:152: reg:linear is now deprecated in favor of reg:squarederror.\n",
            "[CV]  max_depth=7, min_child_weight=5, n_estimators=100, score=-0.054, total=  21.7s\n",
            "[CV] max_depth=7, min_child_weight=5, n_estimators=100 ...............\n",
            "[01:28:49] WARNING: /workspace/src/objective/regression_obj.cu:152: reg:linear is now deprecated in favor of reg:squarederror.\n",
            "[CV]  max_depth=7, min_child_weight=5, n_estimators=100, score=-0.053, total=  21.8s\n",
            "[CV] max_depth=7, min_child_weight=5, n_estimators=100 ...............\n",
            "[01:29:11] WARNING: /workspace/src/objective/regression_obj.cu:152: reg:linear is now deprecated in favor of reg:squarederror.\n",
            "[CV]  max_depth=7, min_child_weight=5, n_estimators=100, score=-0.052, total=  21.7s\n",
            "[CV] max_depth=7, min_child_weight=5, n_estimators=100 ...............\n",
            "[01:29:33] WARNING: /workspace/src/objective/regression_obj.cu:152: reg:linear is now deprecated in favor of reg:squarederror.\n",
            "[CV]  max_depth=7, min_child_weight=5, n_estimators=100, score=-0.052, total=  21.6s\n",
            "[CV] max_depth=7, min_child_weight=5, n_estimators=200 ...............\n",
            "[01:29:54] WARNING: /workspace/src/objective/regression_obj.cu:152: reg:linear is now deprecated in favor of reg:squarederror.\n",
            "[CV]  max_depth=7, min_child_weight=5, n_estimators=200, score=-0.055, total=  42.8s\n",
            "[CV] max_depth=7, min_child_weight=5, n_estimators=200 ...............\n",
            "[01:30:37] WARNING: /workspace/src/objective/regression_obj.cu:152: reg:linear is now deprecated in favor of reg:squarederror.\n",
            "[CV]  max_depth=7, min_child_weight=5, n_estimators=200, score=-0.055, total=  42.9s\n",
            "[CV] max_depth=7, min_child_weight=5, n_estimators=200 ...............\n",
            "[01:31:20] WARNING: /workspace/src/objective/regression_obj.cu:152: reg:linear is now deprecated in favor of reg:squarederror.\n",
            "[CV]  max_depth=7, min_child_weight=5, n_estimators=200, score=-0.053, total=  43.0s\n",
            "[CV] max_depth=7, min_child_weight=5, n_estimators=200 ...............\n",
            "[01:32:03] WARNING: /workspace/src/objective/regression_obj.cu:152: reg:linear is now deprecated in favor of reg:squarederror.\n",
            "[CV]  max_depth=7, min_child_weight=5, n_estimators=200, score=-0.052, total=  43.2s\n",
            "[CV] max_depth=7, min_child_weight=5, n_estimators=200 ...............\n",
            "[01:32:46] WARNING: /workspace/src/objective/regression_obj.cu:152: reg:linear is now deprecated in favor of reg:squarederror.\n",
            "[CV]  max_depth=7, min_child_weight=5, n_estimators=200, score=-0.052, total=  42.8s\n",
            "[01:33:29] WARNING: /workspace/src/objective/regression_obj.cu:152: reg:linear is now deprecated in favor of reg:squarederror.\n"
          ],
          "name": "stdout"
        },
        {
          "output_type": "stream",
          "text": [
            "[Parallel(n_jobs=1)]: Done 135 out of 135 | elapsed: 37.7min finished\n"
          ],
          "name": "stderr"
        },
        {
          "output_type": "stream",
          "text": [
            "Best Score- -0.05300594634838186\n",
            "Best Parameters- {'max_depth': 5, 'min_child_weight': 5, 'n_estimators': 100}\n",
            "Best Estimator- XGBRegressor(base_score=0.5, booster='gbtree', colsample_bylevel=1,\n",
            "             colsample_bynode=1, colsample_bytree=1, gamma=0,\n",
            "             importance_type='gain', learning_rate=0.1, max_delta_step=0,\n",
            "             max_depth=5, min_child_weight=5, missing=None, n_estimators=100,\n",
            "             n_jobs=1, nthread=None, objective='reg:linear', random_state=0,\n",
            "             reg_alpha=0, reg_lambda=1, scale_pos_weight=1, seed=None,\n",
            "             silent=None, subsample=1, verbosity=1)\n"
          ],
          "name": "stdout"
        }
      ]
    },
    {
      "cell_type": "code",
      "metadata": {
        "id": "8bDBNinh0k31",
        "colab_type": "code",
        "colab": {
          "base_uri": "https://localhost:8080/",
          "height": 966
        },
        "outputId": "1fe80fb0-6c6d-4e75-f1c1-6d6a211be0f8"
      },
      "source": [
        "from sklearn.model_selection import cross_validate\n",
        "from xgboost import XGBRegressor\n",
        "from xgboost import plot_importance\n",
        "\n",
        "print(\"Cross validation again using best estimated parameters\")\n",
        "clf = XGBRegressor(learning_rate =0.1,max_depth= 3,min_child_weight=3,n_estimators=100)\n",
        "scores = cross_val_score(clf, x_train, y_train, cv=10,  scoring='neg_mean_absolute_error')\n",
        "print(\"Printing Final Score\")\n",
        "print(\"MAE: %0.2f (+/- %0.2f)\" % (abs(scores.mean()), scores.std()*2))\n",
        "\n",
        "clf.fit(x_train, y_train)  \n",
        "print(\"Printing Feature Importances\")\n",
        "print (clf.feature_importances_)\n",
        "plt.bar(range(len(clf.feature_importances_)),clf.feature_importances_)\n",
        "plt.show()\n",
        "\n",
        "plot_importance(clf)\n",
        "plt.show()"
      ],
      "execution_count": 9,
      "outputs": [
        {
          "output_type": "stream",
          "text": [
            "Cross validation again using best estimated parameters\n",
            "[01:33:49] WARNING: /workspace/src/objective/regression_obj.cu:152: reg:linear is now deprecated in favor of reg:squarederror.\n",
            "[01:34:00] WARNING: /workspace/src/objective/regression_obj.cu:152: reg:linear is now deprecated in favor of reg:squarederror.\n",
            "[01:34:11] WARNING: /workspace/src/objective/regression_obj.cu:152: reg:linear is now deprecated in favor of reg:squarederror.\n",
            "[01:34:22] WARNING: /workspace/src/objective/regression_obj.cu:152: reg:linear is now deprecated in favor of reg:squarederror.\n",
            "[01:34:33] WARNING: /workspace/src/objective/regression_obj.cu:152: reg:linear is now deprecated in favor of reg:squarederror.\n",
            "[01:34:44] WARNING: /workspace/src/objective/regression_obj.cu:152: reg:linear is now deprecated in favor of reg:squarederror.\n",
            "[01:34:56] WARNING: /workspace/src/objective/regression_obj.cu:152: reg:linear is now deprecated in favor of reg:squarederror.\n",
            "[01:35:07] WARNING: /workspace/src/objective/regression_obj.cu:152: reg:linear is now deprecated in favor of reg:squarederror.\n",
            "[01:35:18] WARNING: /workspace/src/objective/regression_obj.cu:152: reg:linear is now deprecated in favor of reg:squarederror.\n",
            "[01:35:29] WARNING: /workspace/src/objective/regression_obj.cu:152: reg:linear is now deprecated in favor of reg:squarederror.\n",
            "Printing Final Score\n",
            "MAE: 0.05 (+/- 0.00)\n",
            "[01:35:40] WARNING: /workspace/src/objective/regression_obj.cu:152: reg:linear is now deprecated in favor of reg:squarederror.\n",
            "Printing Feature Importances\n",
            "[0.01751251 0.         0.         0.02077265 0.0166054  0.02170488\n",
            " 0.01433322 0.04426202 0.         0.01924522 0.03589238 0.05109211\n",
            " 0.         0.02580192 0.0114424  0.03036047 0.         0.\n",
            " 0.         0.02355424 0.01550785 0.01726351 0.01791756 0.02934556\n",
            " 0.02555456 0.01959577 0.03596561 0.01327134 0.         0.02483919\n",
            " 0.         0.02574108 0.0252475  0.02022084 0.         0.01634602\n",
            " 0.03664732 0.         0.         0.         0.         0.03278201\n",
            " 0.0169693  0.         0.03007294 0.01220739 0.         0.02557987\n",
            " 0.07668397 0.         0.0185565  0.04338351 0.03298859 0.02771794\n",
            " 0.02701507]\n"
          ],
          "name": "stdout"
        },
        {
          "output_type": "display_data",
          "data": {
            "image/png": "[encoded data removed]",
            "text/plain": [
              "<Figure size 432x288 with 1 Axes>"
            ]
          },
          "metadata": {
            "tags": [],
            "needs_background": "light"
          }
        },
        {
          "output_type": "display_data",
          "data": {
            "image/png": "[encoded data removed]",
            "text/plain": [
              "<Figure size 432x288 with 1 Axes>"
            ]
          },
          "metadata": {
            "tags": [],
            "needs_background": "light"
          }
        }
      ]
    },
    {
      "cell_type": "code",
      "metadata": {
        "id": "oFzsmQkv20gv",
        "colab_type": "code",
        "colab": {}
      },
      "source": [
        "sample['parcelid'] = sample['ParcelId']\n",
        "df_test = sample.merge(prop, on='parcelid', how='left')\n",
        "\n",
        "x_test = df_test[train_columns]\n",
        "for c in x_test.dtypes[x_test.dtypes == object].index.values:\n",
        "    x_test[c] = (x_test[c] == True)"
      ],
      "execution_count": 0,
      "outputs": []
    },
    {
      "cell_type": "code",
      "metadata": {
        "id": "Of3V3eka3jPg",
        "colab_type": "code",
        "colab": {}
      },
      "source": [
        "lol = clf.predict(x_test)"
      ],
      "execution_count": 0,
      "outputs": []
    },
    {
      "cell_type": "code",
      "metadata": {
        "id": "o8UtXiatIQ__",
        "colab_type": "code",
        "colab": {
          "base_uri": "https://localhost:8080/",
          "height": 34
        },
        "outputId": "9c4283b8-ed72-4594-bced-48ce6f501ad8"
      },
      "source": [
        "sub = pd.read_csv('data/zillow-prize-1/sample_submission.csv')\n",
        "for c in sub.columns[sub.columns != 'ParcelId']:\n",
        "    sub[c] = lol\n",
        "\n",
        "print('Writing csv ...')\n",
        "sub.to_csv('xgb_starter.csv', index=False, float_format='%.4f')"
      ],
      "execution_count": 12,
      "outputs": [
        {
          "output_type": "stream",
          "text": [
            "Writing csv ...\n"
          ],
          "name": "stdout"
        }
      ]
    },
    {
      "cell_type": "code",
      "metadata": {
        "id": "eKY-5u_PCDtK",
        "colab_type": "code",
        "colab": {
          "base_uri": "https://localhost:8080/",
          "height": 524
        },
        "outputId": "d9c03161-69ef-4fd8-868e-052fde63208c"
      },
      "source": [
        ""
      ],
      "execution_count": 14,
      "outputs": [
        {
          "output_type": "stream",
          "text": [
            "[(XGBRegressor(base_score=0.5, booster='gbtree', colsample_bylevel=1,\n",
            "             colsample_bynode=1, colsample_bytree=1, gamma=0,\n",
            "             importance_type='gain', learning_rate=0.1, max_delta_step=0,\n",
            "             max_depth=3, min_child_weight=1, missing=None, n_estimators=100,\n",
            "             n_jobs=1, nthread=None, objective='reg:linear', random_state=0,\n",
            "             reg_alpha=0, reg_lambda=1, scale_pos_weight=1, seed=None,\n",
            "             silent=None, subsample=1, verbosity=1), -0.05296459113451378), (GradientBoostingRegressor(alpha=0.9, ccp_alpha=0.0, criterion='friedman_mse',\n",
            "                          init=None, learning_rate=0.1, loss='ls', max_depth=3,\n",
            "                          max_features=None, max_leaf_nodes=None,\n",
            "                          min_impurity_decrease=0.0, min_impurity_split=None,\n",
            "                          min_samples_leaf=1, min_samples_split=2,\n",
            "                          min_weight_fraction_leaf=0.0, n_estimators=100,\n",
            "                          n_iter_no_change=None, presort='deprecated',\n",
            "                          random_state=None, subsample=1.0, tol=0.0001,\n",
            "                          validation_fraction=0.1, verbose=0, warm_start=False), -0.05297280185730648), (BayesianRidge(alpha_1=1e-06, alpha_2=1e-06, alpha_init=None,\n",
            "              compute_score=False, copy_X=True, fit_intercept=True,\n",
            "              lambda_1=1e-06, lambda_2=1e-06, lambda_init=None, n_iter=300,\n",
            "              normalize=False, tol=0.001, verbose=False), -0.05322917418323462), (Ridge(alpha=1.0, copy_X=True, fit_intercept=True, max_iter=None,\n",
            "      normalize=False, random_state=None, solver='auto', tol=0.001), -0.053235558334564705), (LinearRegression(copy_X=True, fit_intercept=True, n_jobs=None, normalize=False), -0.05323920735782868), (Lasso(alpha=1.0, copy_X=True, fit_intercept=True, max_iter=1000,\n",
            "      normalize=False, positive=False, precompute=False, random_state=None,\n",
            "      selection='cyclic', tol=0.0001, warm_start=False), -0.05333130544897023), (RandomForestRegressor(bootstrap=True, ccp_alpha=0.0, criterion='mse',\n",
            "                      max_depth=None, max_features='auto', max_leaf_nodes=None,\n",
            "                      max_samples=None, min_impurity_decrease=0.0,\n",
            "                      min_impurity_split=None, min_samples_leaf=1,\n",
            "                      min_samples_split=2, min_weight_fraction_leaf=0.0,\n",
            "                      n_estimators=100, n_jobs=None, oob_score=False,\n",
            "                      random_state=None, verbose=0, warm_start=False), -0.05479388907411237), (KNeighborsRegressor(algorithm='auto', leaf_size=30, metric='minkowski',\n",
            "                    metric_params=None, n_jobs=None, n_neighbors=5, p=2,\n",
            "                    weights='uniform'), -0.06144669075307666)]\n"
          ],
          "name": "stdout"
        }
      ]
    },
    {
      "cell_type": "code",
      "metadata": {
        "id": "UjbPTI_hXars",
        "colab_type": "code",
        "colab": {}
      },
      "source": [
        ""
      ],
      "execution_count": 0,
      "outputs": []
    }
  ]
}