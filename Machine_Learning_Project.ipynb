{
  "nbformat": 4,
  "nbformat_minor": 0,
  "metadata": {
    "kernelspec": {
      "display_name": "Python 3",
      "language": "python",
      "name": "python3"
    },
    "language_info": {
      "codemirror_mode": {
        "name": "ipython",
        "version": 3
      },
      "file_extension": ".py",
      "mimetype": "text/x-python",
      "name": "python",
      "nbconvert_exporter": "python",
      "pygments_lexer": "ipython3",
      "version": "3.7.6"
    },
    "colab": {
      "name": "Machine Learning Project.ipynb",
      "provenance": [],
      "collapsed_sections": []
    },
    "accelerator": "GPU"
  },
  "cells": [
    {
      "cell_type": "code",
      "metadata": {
        "id": "88jgXfvvE_0M",
        "colab_type": "code",
        "colab": {
          "base_uri": "https://localhost:8080/",
          "height": 70
        },
        "outputId": "e99dffb5-21b2-48b0-a91d-60234e34361e"
      },
      "source": [
        "# ! pip3 install xgboost\n",
        "import numpy as np\n",
        "import pandas as pd\n",
        "import xgboost as xgb\n",
        "import gc\n",
        "import numpy as np # for efficient numerical computations\n",
        "import pandas as pd # for data management\n",
        "import matplotlib.pyplot as plt #to customize visualizations\n",
        "import seaborn as sns #for easy/common visualizations\n",
        "# !pip install sklearn\n",
        "#Importing sklearn libraries\n",
        "from sklearn.model_selection import cross_val_score\n",
        "from sklearn.model_selection import StratifiedKFold\n",
        "from sklearn.model_selection import cross_validate\n",
        "from sklearn.ensemble import RandomForestRegressor\n",
        "from sklearn.model_selection import GridSearchCV\n",
        "from sklearn.preprocessing import LabelEncoder\n",
        "from sklearn.model_selection import cross_val_score\n",
        "from sklearn import linear_model\n",
        "from sklearn import tree\n",
        "from sklearn import svm\n",
        "from sklearn import metrics\n",
        "from sklearn.svm import SVC\n",
        "from sklearn.neighbors import KNeighborsRegressor\n",
        "from sklearn.ensemble import RandomForestRegressor\n",
        "from sklearn.ensemble import AdaBoostClassifier\n",
        "from sklearn.ensemble import GradientBoostingRegressor\n",
        "\n",
        "#Importing xgboost\n",
        "from xgboost import XGBRegressor\n",
        "\n",
        "import warnings\n",
        "warnings.simplefilter(\"ignore\")\n",
        "\n",
        "#Importing other required libraries\n",
        "import os\n",
        "import re\n",
        "import csv\n",
        "import operator\n",
        "import random\n",
        "import datetime\n",
        "from datetime import datetime\n",
        "import warnings\n",
        "color = sns.color_palette()\n",
        "%matplotlib inline\n",
        "\n",
        "random.seed(47)\n",
        "# print'--------------------------------------------------'"
      ],
      "execution_count": 1,
      "outputs": [
        {
          "output_type": "stream",
          "text": [
            "/usr/local/lib/python3.6/dist-packages/statsmodels/tools/_testing.py:19: FutureWarning: pandas.util.testing is deprecated. Use the functions in the public API at pandas.testing instead.\n",
            "  import pandas.util.testing as tm\n"
          ],
          "name": "stderr"
        }
      ]
    },
    {
      "cell_type": "code",
      "metadata": {
        "id": "Zrl5VveeE_0T",
        "colab_type": "code",
        "outputId": "e33c5703-53b6-469e-ed89-8a6a0407df81",
        "colab": {
          "base_uri": "https://localhost:8080/",
          "height": 121
        }
      },
      "source": [
        "from google.colab import drive\n",
        "drive.mount('/content/drive',force_remount=True"
      ],
      "execution_count": 2,
      "outputs": [
        {
          "output_type": "stream",
          "text": [
            "Go to this URL in a browser: https://accounts.google.com/o/oauth2/auth?client_id=947318989803-6bn6qk8qdgf4n4g3pfee6491hc0brc4i.apps.googleusercontent.com&redirect_uri=urn%3aietf%3awg%3aoauth%3a2.0%3aoob&response_type=code&scope=email%20https%3a%2f%2fwww.googleapis.com%2fauth%2fdocs.test%20https%3a%2f%2fwww.googleapis.com%2fauth%2fdrive%20https%3a%2f%2fwww.googleapis.com%2fauth%2fdrive.photos.readonly%20https%3a%2f%2fwww.googleapis.com%2fauth%2fpeopleapi.readonly\n",
            "\n",
            "Enter your authorization code:\n",
            "··········\n",
            "Mounted at /content/drive\n"
          ],
          "name": "stdout"
        }
      ]
    },
    {
      "cell_type": "code",
      "metadata": {
        "id": "Y5dXRZl_TA-M",
        "colab_type": "code",
        "outputId": "8e4bdca9-8795-4d65-919a-f4564049b2fc",
        "colab": {
          "base_uri": "https://localhost:8080/",
          "height": 34
        }
      },
      "source": [
        "cd drive/'My Drive'"
      ],
      "execution_count": 3,
      "outputs": [
        {
          "output_type": "stream",
          "text": [
            "/content/drive/My Drive\n"
          ],
          "name": "stdout"
        }
      ]
    },
    {
      "cell_type": "code",
      "metadata": {
        "id": "uS4NsSgCFxtR",
        "colab_type": "code",
        "outputId": "04aa7c55-2d34-4a50-ea8a-f268c8160d2d",
        "colab": {
          "base_uri": "https://localhost:8080/",
          "height": 235
        }
      },
      "source": [
        "# !unzip zillow-prize-1.zip -d data"
      ],
      "execution_count": 0,
      "outputs": [
        {
          "output_type": "stream",
          "text": [
            "Archive:  zillow-prize-1.zip\n",
            "replace data/zillow-prize-1/properties_2016.csv? [y]es, [n]o, [A]ll, [N]one, [r]ename: y\n",
            "  inflating: data/zillow-prize-1/properties_2016.csv  y\n",
            "\n",
            "replace data/zillow-prize-1/properties_2017.csv? [y]es, [n]o, [A]ll, [N]one, [r]ename:   inflating: data/zillow-prize-1/properties_2017.csv  \n",
            "replace data/zillow-prize-1/sample_submission.csv? [y]es, [n]o, [A]ll, [N]one, [r]ename: y\n",
            "  inflating: data/zillow-prize-1/sample_submission.csv  \n",
            "replace data/zillow-prize-1/train_2016_v2.csv? [y]es, [n]o, [A]ll, [N]one, [r]ename: y\n",
            "  inflating: data/zillow-prize-1/train_2016_v2.csv  \n",
            "replace data/zillow-prize-1/train_2017.csv? [y]es, [n]o, [A]ll, [N]one, [r]ename: y\n",
            "  inflating: data/zillow-prize-1/train_2017.csv  \n",
            "replace data/zillow-prize-1/zillow_data_dictionary.xlsx? [y]es, [n]o, [A]ll, [N]one, [r]ename: y\n",
            "  inflating: data/zillow-prize-1/zillow_data_dictionary.xlsx  \n"
          ],
          "name": "stdout"
        }
      ]
    },
    {
      "cell_type": "code",
      "metadata": {
        "id": "-6JIe61aE_0Y",
        "colab_type": "code",
        "colab": {}
      },
      "source": [
        "train = pd.read_csv('data/zillow-prize-1/train_2016_v2.csv')\n",
        "prop = pd.read_csv('data/zillow-prize-1/properties_2016.csv')\n",
        "# prop = pd.read_csv('data/zillow-prize-1/properties_2016.csv')\n",
        "sample = pd.read_csv('data/zillow-prize-1/sample_submission.csv')"
      ],
      "execution_count": 0,
      "outputs": []
    },
    {
      "cell_type": "code",
      "metadata": {
        "id": "RFrD-v_Qtca7",
        "colab_type": "code",
        "colab": {
          "base_uri": "https://localhost:8080/",
          "height": 84
        },
        "outputId": "27615d24-e994-4ace-b2e4-5d3abefd2f38"
      },
      "source": [
        "train = pd.read_csv('data/zillow-prize-1/train_2016_v2.csv', parse_dates=[\"transactiondate\"])\n",
        "print (\"Shape Of Train: \",train.shape)\n",
        "train.head()\n",
        "\n",
        "#Reading Properties Data\n",
        "prop = pd.read_csv('data/zillow-prize-1/properties_2016.csv')\n",
        "print (\"Shape Of Train: \",prop.shape)\n",
        "prop.head()\n",
        "\n",
        "#Merging both files to create the train file\n",
        "train = pd.merge(train, prop, on='parcelid', how='left')\n",
        "print (\"Shape Of Train: \",train.shape)\n",
        "train.head()\n",
        "\n",
        "#New Variable - Exploring number of transactions in each month\n",
        "train['New_transaction_month'] = train['transactiondate'].dt.month\n",
        "\n",
        "#Dropping Columns who's %age of NaN values is greater than 70%\n",
        "for col in list(train.columns.values):\n",
        "    nanValues = float(train[col].isnull().sum()) / len(train)\n",
        "    if nanValues > 0.70:\n",
        "        #print col\n",
        "        train = train.drop([col], axis=1)\n",
        "        \n",
        "#Corelation Analysis, dropping highly correlated variables\")\n",
        "for col in ('calculatedbathnbr','fullbathcnt','finishedsquarefeet12','rawcensustractandblock','censustractandblock','landtaxvaluedollarcnt','taxvaluedollarcnt'):\n",
        "    train = train.drop([col], axis=1)\n",
        "    \n",
        "#fill median for numeric null columns\n",
        "for c in train.dtypes[train.dtypes == 'float64'].index.values:\n",
        "    train[c].fillna(train[c].median(), inplace = True)\n",
        "    \n",
        "#Imputing Null values with -1 and encoding Objects\n",
        "for c in train.columns:\n",
        "    train[c]=train[c].fillna(-1)\n",
        "    if train[c].dtype == object:\n",
        "        lbl = LabelEncoder()\n",
        "        lbl.fit(list(train[c].values))\n",
        "        train[c] = lbl.transform(list(train[c].values))\n",
        "         \n",
        "#Dropping out outliers\n",
        "train=train[ train.logerror > -0.417 ]\n",
        "train=train[ train.logerror < 0.418 ]\n",
        "\n",
        "#Processing data\n",
        "for c, dtype in zip(train.columns, train.dtypes):\n",
        "    if dtype == np.float64:\n",
        "        train[c] = train[c].astype(np.float32)\n",
        "\n",
        "#Splitting logerror as test data\n",
        "test = train.logerror\n",
        "\n",
        "#Dropping meta columns and casting to accepted dtypes\n",
        "train = train.drop(['parcelid', 'logerror', 'transactiondate',\n",
        "                'propertyzoningdesc', 'propertycountylandusecode'], axis=1)   \n",
        "print('--------------------------------------------------')\n"
      ],
      "execution_count": 5,
      "outputs": [
        {
          "output_type": "stream",
          "text": [
            "Shape Of Train:  (90275, 3)\n",
            "Shape Of Train:  (2985217, 58)\n",
            "Shape Of Train:  (90275, 60)\n",
            "--------------------------------------------------\n"
          ],
          "name": "stdout"
        }
      ]
    },
    {
      "cell_type": "code",
      "metadata": {
        "id": "l8DjLvOau5Iy",
        "colab_type": "code",
        "colab": {}
      },
      "source": [
        "\n",
        "#Adding new features\n",
        "\n",
        "#proportion of living area\n",
        "train['New_LivingAreaProp'] = train['calculatedfinishedsquarefeet']/train['lotsizesquarefeet']\n",
        "\n",
        "#Number of properties in the zip\n",
        "zip_count = train['regionidzip'].value_counts().to_dict()\n",
        "train['New_zip_count'] = train['regionidzip'].map(zip_count)\n",
        "\n",
        "#Number of properties in the city\n",
        "city_count = train['regionidcity'].value_counts().to_dict()\n",
        "train['New_city_count'] = train['regionidcity'].map(city_count)\n",
        "# print'--------------------------------------------------'"
      ],
      "execution_count": 0,
      "outputs": []
    },
    {
      "cell_type": "code",
      "metadata": {
        "id": "QNI64Weiu5QD",
        "colab_type": "code",
        "colab": {
          "base_uri": "https://localhost:8080/",
          "height": 1000
        },
        "outputId": "0f9d564a-4290-443c-bd9c-66396c5a0e6b"
      },
      "source": [
        "#Printing out all the Variables\n",
        "dtype_df = train.dtypes.reset_index()\n",
        "dtype_df.columns = [\"Count\", \"Column Type\"]\n",
        "print (dtype_df)\n",
        "\n",
        "#Testing various Regression models\n",
        "allModels = {} # Dictionary of models and their respective losses\n",
        "\n",
        "print(\"Running XGB Regression\")\n",
        "model = XGBRegressor()\n",
        "predicted = cross_val_score(model, train, test, scoring='neg_mean_absolute_error', cv=10)\n",
        "allModels[model] = predicted.mean()\n",
        "\n",
        "print(\"Running Linear Regression\")\n",
        "model = linear_model.LinearRegression()\n",
        "predicted = cross_val_score(model, train, test, scoring='neg_mean_absolute_error', cv=10)\n",
        "allModels[model] = predicted.mean()\n",
        "\n",
        "print(\"Running Bayesian Ridge Regression\")\n",
        "model = linear_model.BayesianRidge()\n",
        "predicted = cross_val_score(model, train, test, scoring='neg_mean_absolute_error', cv=10)\n",
        "allModels[model] = predicted.mean()\n",
        "\n",
        "print(\"Running Ridge Regression\")\n",
        "model = linear_model.Ridge()\n",
        "predicted = cross_val_score(model, train, test, scoring='neg_mean_absolute_error', cv=10)\n",
        "allModels[model] = predicted.mean()\n",
        "\n",
        "print(\"Running Lasso Regression\")\n",
        "model = linear_model.Lasso()\n",
        "predicted = cross_val_score(model, train, test, scoring='neg_mean_absolute_error', cv=10)\n",
        "allModels[model] = predicted.mean()\n",
        "\n",
        "print(\"Running Decision Trees\")\n",
        "model = tree.DecisionTreeRegressor()\n",
        "predicted = cross_val_score(model, train, test, scoring='neg_mean_absolute_error', cv=10)\n",
        "allModels[model] = predicted.mean()\n",
        "\n",
        "print(\"Running Random Forest\")\n",
        "model = RandomForestRegressor()\n",
        "predicted = cross_val_score(model, train, test, scoring='neg_mean_absolute_error', cv=10)\n",
        "allModels[model] = predicted.mean()\n",
        "\n",
        "print(\"Running KNN\")\n",
        "model = KNeighborsRegressor()\n",
        "predicted = cross_val_score(model, train, test, scoring='neg_mean_absolute_error', cv=10)\n",
        "allModels[model] = predicted.mean()\n",
        "\n",
        "print(\"Running Gradient Boosted Regressor\")\n",
        "model = GradientBoostingRegressor()\n",
        "predicted = cross_val_score(model, train, test, scoring='neg_mean_absolute_error', cv=10)\n",
        "allModels[model] = predicted.mean()\n",
        "\n",
        "print(\"Returning the best model\")\n",
        "sortedModels = sorted(allModels.items(), key=operator.itemgetter(1), reverse=True)\n",
        "for model in sortedModels:\n",
        "    print ('Model:', model[0])\n",
        "    print ('Loss:', model[1])\n",
        "# print'--------------------------------------------------'"
      ],
      "execution_count": 7,
      "outputs": [
        {
          "output_type": "stream",
          "text": [
            "                           Count Column Type\n",
            "0          airconditioningtypeid     float32\n",
            "1                    bathroomcnt     float32\n",
            "2                     bedroomcnt     float32\n",
            "3          buildingqualitytypeid     float32\n",
            "4   calculatedfinishedsquarefeet     float32\n",
            "5                           fips     float32\n",
            "6                   garagecarcnt     float32\n",
            "7                garagetotalsqft     float32\n",
            "8          heatingorsystemtypeid     float32\n",
            "9                       latitude     float32\n",
            "10                     longitude     float32\n",
            "11             lotsizesquarefeet     float32\n",
            "12         propertylandusetypeid     float32\n",
            "13                  regionidcity     float32\n",
            "14                regionidcounty     float32\n",
            "15          regionidneighborhood     float32\n",
            "16                   regionidzip     float32\n",
            "17                       roomcnt     float32\n",
            "18                       unitcnt     float32\n",
            "19                     yearbuilt     float32\n",
            "20    structuretaxvaluedollarcnt     float32\n",
            "21                assessmentyear     float32\n",
            "22                     taxamount     float32\n",
            "23         New_transaction_month       int64\n",
            "24            New_LivingAreaProp     float32\n",
            "25                 New_zip_count       int64\n",
            "26                New_city_count       int64\n",
            "Running XGB Regression\n",
            "[08:29:27] WARNING: /workspace/src/objective/regression_obj.cu:152: reg:linear is now deprecated in favor of reg:squarederror.\n",
            "[08:29:37] WARNING: /workspace/src/objective/regression_obj.cu:152: reg:linear is now deprecated in favor of reg:squarederror.\n",
            "[08:29:45] WARNING: /workspace/src/objective/regression_obj.cu:152: reg:linear is now deprecated in favor of reg:squarederror.\n",
            "[08:29:54] WARNING: /workspace/src/objective/regression_obj.cu:152: reg:linear is now deprecated in favor of reg:squarederror.\n",
            "[08:30:03] WARNING: /workspace/src/objective/regression_obj.cu:152: reg:linear is now deprecated in favor of reg:squarederror.\n",
            "[08:30:11] WARNING: /workspace/src/objective/regression_obj.cu:152: reg:linear is now deprecated in favor of reg:squarederror.\n",
            "[08:30:20] WARNING: /workspace/src/objective/regression_obj.cu:152: reg:linear is now deprecated in favor of reg:squarederror.\n",
            "[08:30:28] WARNING: /workspace/src/objective/regression_obj.cu:152: reg:linear is now deprecated in favor of reg:squarederror.\n",
            "[08:30:37] WARNING: /workspace/src/objective/regression_obj.cu:152: reg:linear is now deprecated in favor of reg:squarederror.\n",
            "[08:30:45] WARNING: /workspace/src/objective/regression_obj.cu:152: reg:linear is now deprecated in favor of reg:squarederror.\n",
            "Running Linear Regression\n",
            "Running Bayesian Ridge Regression\n",
            "Running Ridge Regression\n",
            "Running Lasso Regression\n",
            "Running Decision Trees\n",
            "Running Random Forest\n",
            "Running KNN\n",
            "Running Gradient Boosted Regressor\n",
            "Returning the best model\n",
            "Model: XGBRegressor(base_score=0.5, booster='gbtree', colsample_bylevel=1,\n",
            "             colsample_bynode=1, colsample_bytree=1, gamma=0,\n",
            "             importance_type='gain', learning_rate=0.1, max_delta_step=0,\n",
            "             max_depth=3, min_child_weight=1, missing=None, n_estimators=100,\n",
            "             n_jobs=1, nthread=None, objective='reg:linear', random_state=0,\n",
            "             reg_alpha=0, reg_lambda=1, scale_pos_weight=1, seed=None,\n",
            "             silent=None, subsample=1, verbosity=1)\n",
            "Loss: -0.053039984032511714\n",
            "Model: GradientBoostingRegressor(alpha=0.9, ccp_alpha=0.0, criterion='friedman_mse',\n",
            "                          init=None, learning_rate=0.1, loss='ls', max_depth=3,\n",
            "                          max_features=None, max_leaf_nodes=None,\n",
            "                          min_impurity_decrease=0.0, min_impurity_split=None,\n",
            "                          min_samples_leaf=1, min_samples_split=2,\n",
            "                          min_weight_fraction_leaf=0.0, n_estimators=100,\n",
            "                          n_iter_no_change=None, presort='deprecated',\n",
            "                          random_state=None, subsample=1.0, tol=0.0001,\n",
            "                          validation_fraction=0.1, verbose=0, warm_start=False)\n",
            "Loss: -0.05309203117893011\n",
            "Model: Lasso(alpha=1.0, copy_X=True, fit_intercept=True, max_iter=1000,\n",
            "      normalize=False, positive=False, precompute=False, random_state=None,\n",
            "      selection='cyclic', tol=0.0001, warm_start=False)\n",
            "Loss: -0.05335322419133566\n",
            "Model: BayesianRidge(alpha_1=1e-06, alpha_2=1e-06, alpha_init=None,\n",
            "              compute_score=False, copy_X=True, fit_intercept=True,\n",
            "              lambda_1=1e-06, lambda_2=1e-06, lambda_init=None, n_iter=300,\n",
            "              normalize=False, tol=0.001, verbose=False)\n",
            "Loss: -0.0533728104960696\n",
            "Model: Ridge(alpha=1.0, copy_X=True, fit_intercept=True, max_iter=None,\n",
            "      normalize=False, random_state=None, solver='auto', tol=0.001)\n",
            "Loss: -0.05338599359652232\n",
            "Model: LinearRegression(copy_X=True, fit_intercept=True, n_jobs=None, normalize=False)\n",
            "Loss: -0.05338599489034894\n",
            "Model: RandomForestRegressor(bootstrap=True, ccp_alpha=0.0, criterion='mse',\n",
            "                      max_depth=None, max_features='auto', max_leaf_nodes=None,\n",
            "                      max_samples=None, min_impurity_decrease=0.0,\n",
            "                      min_impurity_split=None, min_samples_leaf=1,\n",
            "                      min_samples_split=2, min_weight_fraction_leaf=0.0,\n",
            "                      n_estimators=100, n_jobs=None, oob_score=False,\n",
            "                      random_state=None, verbose=0, warm_start=False)\n",
            "Loss: -0.05487329262898179\n",
            "Model: KNeighborsRegressor(algorithm='auto', leaf_size=30, metric='minkowski',\n",
            "                    metric_params=None, n_jobs=None, n_neighbors=5, p=2,\n",
            "                    weights='uniform')\n",
            "Loss: -0.061538608744740486\n",
            "Model: DecisionTreeRegressor(ccp_alpha=0.0, criterion='mse', max_depth=None,\n",
            "                      max_features=None, max_leaf_nodes=None,\n",
            "                      min_impurity_decrease=0.0, min_impurity_split=None,\n",
            "                      min_samples_leaf=1, min_samples_split=2,\n",
            "                      min_weight_fraction_leaf=0.0, presort='deprecated',\n",
            "                      random_state=None, splitter='best')\n",
            "Loss: -0.0845047000840901\n"
          ],
          "name": "stdout"
        }
      ]
    },
    {
      "cell_type": "code",
      "metadata": {
        "id": "fKKa3p5ru5Vh",
        "colab_type": "code",
        "colab": {
          "base_uri": "https://localhost:8080/",
          "height": 1000
        },
        "outputId": "0a501268-e305-4a5e-c434-843bc1741c6d"
      },
      "source": [
        "print(\"Running Parameter optimization on the Best Model\")\n",
        "\n",
        "params = {  \n",
        "            \"n_estimators\": [10,100,200,1000],\n",
        "            \"max_depth\": [3,5,7],\n",
        "            \"min_child_weight\": [1,3,5]\n",
        "         }\n",
        "\n",
        "xgb_model = XGBRegressor()  \n",
        "xgb_cv    = GridSearchCV(xgb_model,params,verbose = 10,scoring='neg_mean_absolute_error')\n",
        "xgb_cv.fit(train, test)  \n",
        "\n",
        "print ('Best Score-', xgb_cv.best_score_)\n",
        "print ('Best Parameters-', xgb_cv.best_params_)\n",
        "print ('Best Estimator-', xgb_cv.best_estimator_)\n",
        "# print'--------------------------------------------------'"
      ],
      "execution_count": 8,
      "outputs": [
        {
          "output_type": "stream",
          "text": [
            "Running Parameter optimization on the Best Model\n",
            "Fitting 5 folds for each of 36 candidates, totalling 180 fits\n",
            "[CV] max_depth=3, min_child_weight=1, n_estimators=10 ................\n",
            "[09:07:48] WARNING: /workspace/src/objective/regression_obj.cu:152: reg:linear is now deprecated in favor of reg:squarederror.\n"
          ],
          "name": "stdout"
        },
        {
          "output_type": "stream",
          "text": [
            "[Parallel(n_jobs=1)]: Using backend SequentialBackend with 1 concurrent workers.\n"
          ],
          "name": "stderr"
        },
        {
          "output_type": "stream",
          "text": [
            "[CV]  max_depth=3, min_child_weight=1, n_estimators=10, score=-0.175, total=   0.9s\n",
            "[CV] max_depth=3, min_child_weight=1, n_estimators=10 ................\n",
            "[09:07:49] WARNING: /workspace/src/objective/regression_obj.cu:152: reg:linear is now deprecated in favor of reg:squarederror.\n"
          ],
          "name": "stdout"
        },
        {
          "output_type": "stream",
          "text": [
            "[Parallel(n_jobs=1)]: Done   1 out of   1 | elapsed:    0.9s remaining:    0.0s\n"
          ],
          "name": "stderr"
        },
        {
          "output_type": "stream",
          "text": [
            "[CV]  max_depth=3, min_child_weight=1, n_estimators=10, score=-0.182, total=   0.9s\n",
            "[CV] max_depth=3, min_child_weight=1, n_estimators=10 ................\n",
            "[09:07:50] WARNING: /workspace/src/objective/regression_obj.cu:152: reg:linear is now deprecated in favor of reg:squarederror.\n"
          ],
          "name": "stdout"
        },
        {
          "output_type": "stream",
          "text": [
            "[Parallel(n_jobs=1)]: Done   2 out of   2 | elapsed:    1.9s remaining:    0.0s\n"
          ],
          "name": "stderr"
        },
        {
          "output_type": "stream",
          "text": [
            "[CV]  max_depth=3, min_child_weight=1, n_estimators=10, score=-0.179, total=   0.9s\n",
            "[CV] max_depth=3, min_child_weight=1, n_estimators=10 ................\n",
            "[09:07:51] WARNING: /workspace/src/objective/regression_obj.cu:152: reg:linear is now deprecated in favor of reg:squarederror.\n"
          ],
          "name": "stdout"
        },
        {
          "output_type": "stream",
          "text": [
            "[Parallel(n_jobs=1)]: Done   3 out of   3 | elapsed:    2.8s remaining:    0.0s\n"
          ],
          "name": "stderr"
        },
        {
          "output_type": "stream",
          "text": [
            "[CV]  max_depth=3, min_child_weight=1, n_estimators=10, score=-0.179, total=   0.9s\n",
            "[CV] max_depth=3, min_child_weight=1, n_estimators=10 ................\n",
            "[09:07:52] WARNING: /workspace/src/objective/regression_obj.cu:152: reg:linear is now deprecated in favor of reg:squarederror.\n"
          ],
          "name": "stdout"
        },
        {
          "output_type": "stream",
          "text": [
            "[Parallel(n_jobs=1)]: Done   4 out of   4 | elapsed:    3.7s remaining:    0.0s\n"
          ],
          "name": "stderr"
        },
        {
          "output_type": "stream",
          "text": [
            "[CV]  max_depth=3, min_child_weight=1, n_estimators=10, score=-0.172, total=   0.9s\n",
            "[CV] max_depth=3, min_child_weight=1, n_estimators=100 ...............\n",
            "[09:07:53] WARNING: /workspace/src/objective/regression_obj.cu:152: reg:linear is now deprecated in favor of reg:squarederror.\n"
          ],
          "name": "stdout"
        },
        {
          "output_type": "stream",
          "text": [
            "[Parallel(n_jobs=1)]: Done   5 out of   5 | elapsed:    4.7s remaining:    0.0s\n"
          ],
          "name": "stderr"
        },
        {
          "output_type": "stream",
          "text": [
            "[CV]  max_depth=3, min_child_weight=1, n_estimators=100, score=-0.055, total=   7.4s\n",
            "[CV] max_depth=3, min_child_weight=1, n_estimators=100 ...............\n",
            "[09:08:00] WARNING: /workspace/src/objective/regression_obj.cu:152: reg:linear is now deprecated in favor of reg:squarederror.\n"
          ],
          "name": "stdout"
        },
        {
          "output_type": "stream",
          "text": [
            "[Parallel(n_jobs=1)]: Done   6 out of   6 | elapsed:   12.1s remaining:    0.0s\n"
          ],
          "name": "stderr"
        },
        {
          "output_type": "stream",
          "text": [
            "[CV]  max_depth=3, min_child_weight=1, n_estimators=100, score=-0.054, total=   7.4s\n",
            "[CV] max_depth=3, min_child_weight=1, n_estimators=100 ...............\n",
            "[09:08:07] WARNING: /workspace/src/objective/regression_obj.cu:152: reg:linear is now deprecated in favor of reg:squarederror.\n"
          ],
          "name": "stdout"
        },
        {
          "output_type": "stream",
          "text": [
            "[Parallel(n_jobs=1)]: Done   7 out of   7 | elapsed:   19.5s remaining:    0.0s\n"
          ],
          "name": "stderr"
        },
        {
          "output_type": "stream",
          "text": [
            "[CV]  max_depth=3, min_child_weight=1, n_estimators=100, score=-0.052, total=   7.4s\n",
            "[CV] max_depth=3, min_child_weight=1, n_estimators=100 ...............\n",
            "[09:08:15] WARNING: /workspace/src/objective/regression_obj.cu:152: reg:linear is now deprecated in favor of reg:squarederror.\n"
          ],
          "name": "stdout"
        },
        {
          "output_type": "stream",
          "text": [
            "[Parallel(n_jobs=1)]: Done   8 out of   8 | elapsed:   26.9s remaining:    0.0s\n"
          ],
          "name": "stderr"
        },
        {
          "output_type": "stream",
          "text": [
            "[CV]  max_depth=3, min_child_weight=1, n_estimators=100, score=-0.052, total=   7.4s\n",
            "[CV] max_depth=3, min_child_weight=1, n_estimators=100 ...............\n",
            "[09:08:22] WARNING: /workspace/src/objective/regression_obj.cu:152: reg:linear is now deprecated in favor of reg:squarederror.\n"
          ],
          "name": "stdout"
        },
        {
          "output_type": "stream",
          "text": [
            "[Parallel(n_jobs=1)]: Done   9 out of   9 | elapsed:   34.2s remaining:    0.0s\n"
          ],
          "name": "stderr"
        },
        {
          "output_type": "stream",
          "text": [
            "[CV]  max_depth=3, min_child_weight=1, n_estimators=100, score=-0.052, total=   7.4s\n",
            "[CV] max_depth=3, min_child_weight=1, n_estimators=200 ...............\n",
            "[09:08:30] WARNING: /workspace/src/objective/regression_obj.cu:152: reg:linear is now deprecated in favor of reg:squarederror.\n",
            "[CV]  max_depth=3, min_child_weight=1, n_estimators=200, score=-0.055, total=  15.0s\n",
            "[CV] max_depth=3, min_child_weight=1, n_estimators=200 ...............\n",
            "[09:08:45] WARNING: /workspace/src/objective/regression_obj.cu:152: reg:linear is now deprecated in favor of reg:squarederror.\n",
            "[CV]  max_depth=3, min_child_weight=1, n_estimators=200, score=-0.054, total=  15.3s\n",
            "[CV] max_depth=3, min_child_weight=1, n_estimators=200 ...............\n",
            "[09:09:00] WARNING: /workspace/src/objective/regression_obj.cu:152: reg:linear is now deprecated in favor of reg:squarederror.\n",
            "[CV]  max_depth=3, min_child_weight=1, n_estimators=200, score=-0.052, total=  15.2s\n",
            "[CV] max_depth=3, min_child_weight=1, n_estimators=200 ...............\n",
            "[09:09:15] WARNING: /workspace/src/objective/regression_obj.cu:152: reg:linear is now deprecated in favor of reg:squarederror.\n",
            "[CV]  max_depth=3, min_child_weight=1, n_estimators=200, score=-0.052, total=  15.3s\n",
            "[CV] max_depth=3, min_child_weight=1, n_estimators=200 ...............\n",
            "[09:09:30] WARNING: /workspace/src/objective/regression_obj.cu:152: reg:linear is now deprecated in favor of reg:squarederror.\n",
            "[CV]  max_depth=3, min_child_weight=1, n_estimators=200, score=-0.052, total=  15.1s\n",
            "[CV] max_depth=3, min_child_weight=1, n_estimators=1000 ..............\n",
            "[09:09:46] WARNING: /workspace/src/objective/regression_obj.cu:152: reg:linear is now deprecated in favor of reg:squarederror.\n",
            "[CV]  max_depth=3, min_child_weight=1, n_estimators=1000, score=-0.056, total= 1.2min\n",
            "[CV] max_depth=3, min_child_weight=1, n_estimators=1000 ..............\n",
            "[09:11:01] WARNING: /workspace/src/objective/regression_obj.cu:152: reg:linear is now deprecated in favor of reg:squarederror.\n",
            "[CV]  max_depth=3, min_child_weight=1, n_estimators=1000, score=-0.054, total= 1.2min\n",
            "[CV] max_depth=3, min_child_weight=1, n_estimators=1000 ..............\n",
            "[09:12:15] WARNING: /workspace/src/objective/regression_obj.cu:152: reg:linear is now deprecated in favor of reg:squarederror.\n",
            "[CV]  max_depth=3, min_child_weight=1, n_estimators=1000, score=-0.052, total= 1.3min\n",
            "[CV] max_depth=3, min_child_weight=1, n_estimators=1000 ..............\n",
            "[09:13:31] WARNING: /workspace/src/objective/regression_obj.cu:152: reg:linear is now deprecated in favor of reg:squarederror.\n",
            "[CV]  max_depth=3, min_child_weight=1, n_estimators=1000, score=-0.053, total= 1.2min\n",
            "[CV] max_depth=3, min_child_weight=1, n_estimators=1000 ..............\n",
            "[09:14:46] WARNING: /workspace/src/objective/regression_obj.cu:152: reg:linear is now deprecated in favor of reg:squarederror.\n",
            "[CV]  max_depth=3, min_child_weight=1, n_estimators=1000, score=-0.057, total= 1.2min\n",
            "[CV] max_depth=3, min_child_weight=3, n_estimators=10 ................\n",
            "[09:16:00] WARNING: /workspace/src/objective/regression_obj.cu:152: reg:linear is now deprecated in favor of reg:squarederror.\n",
            "[CV]  max_depth=3, min_child_weight=3, n_estimators=10, score=-0.175, total=   0.9s\n",
            "[CV] max_depth=3, min_child_weight=3, n_estimators=10 ................\n",
            "[09:16:01] WARNING: /workspace/src/objective/regression_obj.cu:152: reg:linear is now deprecated in favor of reg:squarederror.\n",
            "[CV]  max_depth=3, min_child_weight=3, n_estimators=10, score=-0.182, total=   0.9s\n",
            "[CV] max_depth=3, min_child_weight=3, n_estimators=10 ................\n",
            "[09:16:02] WARNING: /workspace/src/objective/regression_obj.cu:152: reg:linear is now deprecated in favor of reg:squarederror.\n",
            "[CV]  max_depth=3, min_child_weight=3, n_estimators=10, score=-0.179, total=   0.9s\n",
            "[CV] max_depth=3, min_child_weight=3, n_estimators=10 ................\n",
            "[09:16:03] WARNING: /workspace/src/objective/regression_obj.cu:152: reg:linear is now deprecated in favor of reg:squarederror.\n",
            "[CV]  max_depth=3, min_child_weight=3, n_estimators=10, score=-0.179, total=   0.9s\n",
            "[CV] max_depth=3, min_child_weight=3, n_estimators=10 ................\n",
            "[09:16:04] WARNING: /workspace/src/objective/regression_obj.cu:152: reg:linear is now deprecated in favor of reg:squarederror.\n",
            "[CV]  max_depth=3, min_child_weight=3, n_estimators=10, score=-0.172, total=   0.9s\n",
            "[CV] max_depth=3, min_child_weight=3, n_estimators=100 ...............\n",
            "[09:16:05] WARNING: /workspace/src/objective/regression_obj.cu:152: reg:linear is now deprecated in favor of reg:squarederror.\n",
            "[CV]  max_depth=3, min_child_weight=3, n_estimators=100, score=-0.055, total=   7.7s\n",
            "[CV] max_depth=3, min_child_weight=3, n_estimators=100 ...............\n",
            "[09:16:12] WARNING: /workspace/src/objective/regression_obj.cu:152: reg:linear is now deprecated in favor of reg:squarederror.\n",
            "[CV]  max_depth=3, min_child_weight=3, n_estimators=100, score=-0.054, total=   7.6s\n",
            "[CV] max_depth=3, min_child_weight=3, n_estimators=100 ...............\n",
            "[09:16:20] WARNING: /workspace/src/objective/regression_obj.cu:152: reg:linear is now deprecated in favor of reg:squarederror.\n",
            "[CV]  max_depth=3, min_child_weight=3, n_estimators=100, score=-0.052, total=   7.6s\n",
            "[CV] max_depth=3, min_child_weight=3, n_estimators=100 ...............\n",
            "[09:16:28] WARNING: /workspace/src/objective/regression_obj.cu:152: reg:linear is now deprecated in favor of reg:squarederror.\n",
            "[CV]  max_depth=3, min_child_weight=3, n_estimators=100, score=-0.052, total=   7.5s\n",
            "[CV] max_depth=3, min_child_weight=3, n_estimators=100 ...............\n",
            "[09:16:35] WARNING: /workspace/src/objective/regression_obj.cu:152: reg:linear is now deprecated in favor of reg:squarederror.\n",
            "[CV]  max_depth=3, min_child_weight=3, n_estimators=100, score=-0.052, total=   7.5s\n",
            "[CV] max_depth=3, min_child_weight=3, n_estimators=200 ...............\n",
            "[09:16:42] WARNING: /workspace/src/objective/regression_obj.cu:152: reg:linear is now deprecated in favor of reg:squarederror.\n",
            "[CV]  max_depth=3, min_child_weight=3, n_estimators=200, score=-0.055, total=  14.9s\n",
            "[CV] max_depth=3, min_child_weight=3, n_estimators=200 ...............\n",
            "[09:16:57] WARNING: /workspace/src/objective/regression_obj.cu:152: reg:linear is now deprecated in favor of reg:squarederror.\n",
            "[CV]  max_depth=3, min_child_weight=3, n_estimators=200, score=-0.054, total=  14.9s\n",
            "[CV] max_depth=3, min_child_weight=3, n_estimators=200 ...............\n",
            "[09:17:12] WARNING: /workspace/src/objective/regression_obj.cu:152: reg:linear is now deprecated in favor of reg:squarederror.\n",
            "[CV]  max_depth=3, min_child_weight=3, n_estimators=200, score=-0.052, total=  15.0s\n",
            "[CV] max_depth=3, min_child_weight=3, n_estimators=200 ...............\n",
            "[09:17:27] WARNING: /workspace/src/objective/regression_obj.cu:152: reg:linear is now deprecated in favor of reg:squarederror.\n",
            "[CV]  max_depth=3, min_child_weight=3, n_estimators=200, score=-0.052, total=  14.9s\n",
            "[CV] max_depth=3, min_child_weight=3, n_estimators=200 ...............\n",
            "[09:17:42] WARNING: /workspace/src/objective/regression_obj.cu:152: reg:linear is now deprecated in favor of reg:squarederror.\n",
            "[CV]  max_depth=3, min_child_weight=3, n_estimators=200, score=-0.052, total=  15.0s\n",
            "[CV] max_depth=3, min_child_weight=3, n_estimators=1000 ..............\n",
            "[09:17:57] WARNING: /workspace/src/objective/regression_obj.cu:152: reg:linear is now deprecated in favor of reg:squarederror.\n",
            "[CV]  max_depth=3, min_child_weight=3, n_estimators=1000, score=-0.056, total= 1.2min\n",
            "[CV] max_depth=3, min_child_weight=3, n_estimators=1000 ..............\n",
            "[09:19:11] WARNING: /workspace/src/objective/regression_obj.cu:152: reg:linear is now deprecated in favor of reg:squarederror.\n",
            "[CV]  max_depth=3, min_child_weight=3, n_estimators=1000, score=-0.055, total= 1.2min\n",
            "[CV] max_depth=3, min_child_weight=3, n_estimators=1000 ..............\n",
            "[09:20:24] WARNING: /workspace/src/objective/regression_obj.cu:152: reg:linear is now deprecated in favor of reg:squarederror.\n",
            "[CV]  max_depth=3, min_child_weight=3, n_estimators=1000, score=-0.053, total= 1.2min\n",
            "[CV] max_depth=3, min_child_weight=3, n_estimators=1000 ..............\n",
            "[09:21:37] WARNING: /workspace/src/objective/regression_obj.cu:152: reg:linear is now deprecated in favor of reg:squarederror.\n",
            "[CV]  max_depth=3, min_child_weight=3, n_estimators=1000, score=-0.052, total= 1.2min\n",
            "[CV] max_depth=3, min_child_weight=3, n_estimators=1000 ..............\n",
            "[09:22:51] WARNING: /workspace/src/objective/regression_obj.cu:152: reg:linear is now deprecated in favor of reg:squarederror.\n",
            "[CV]  max_depth=3, min_child_weight=3, n_estimators=1000, score=-0.058, total= 1.2min\n",
            "[CV] max_depth=3, min_child_weight=5, n_estimators=10 ................\n",
            "[09:24:05] WARNING: /workspace/src/objective/regression_obj.cu:152: reg:linear is now deprecated in favor of reg:squarederror.\n",
            "[CV]  max_depth=3, min_child_weight=5, n_estimators=10, score=-0.175, total=   0.9s\n",
            "[CV] max_depth=3, min_child_weight=5, n_estimators=10 ................\n",
            "[09:24:06] WARNING: /workspace/src/objective/regression_obj.cu:152: reg:linear is now deprecated in favor of reg:squarederror.\n",
            "[CV]  max_depth=3, min_child_weight=5, n_estimators=10, score=-0.182, total=   0.9s\n",
            "[CV] max_depth=3, min_child_weight=5, n_estimators=10 ................\n",
            "[09:24:06] WARNING: /workspace/src/objective/regression_obj.cu:152: reg:linear is now deprecated in favor of reg:squarederror.\n",
            "[CV]  max_depth=3, min_child_weight=5, n_estimators=10, score=-0.179, total=   0.9s\n",
            "[CV] max_depth=3, min_child_weight=5, n_estimators=10 ................\n",
            "[09:24:07] WARNING: /workspace/src/objective/regression_obj.cu:152: reg:linear is now deprecated in favor of reg:squarederror.\n",
            "[CV]  max_depth=3, min_child_weight=5, n_estimators=10, score=-0.179, total=   0.9s\n",
            "[CV] max_depth=3, min_child_weight=5, n_estimators=10 ................\n",
            "[09:24:08] WARNING: /workspace/src/objective/regression_obj.cu:152: reg:linear is now deprecated in favor of reg:squarederror.\n",
            "[CV]  max_depth=3, min_child_weight=5, n_estimators=10, score=-0.172, total=   0.9s\n",
            "[CV] max_depth=3, min_child_weight=5, n_estimators=100 ...............\n",
            "[09:24:09] WARNING: /workspace/src/objective/regression_obj.cu:152: reg:linear is now deprecated in favor of reg:squarederror.\n",
            "[CV]  max_depth=3, min_child_weight=5, n_estimators=100, score=-0.055, total=   7.5s\n",
            "[CV] max_depth=3, min_child_weight=5, n_estimators=100 ...............\n",
            "[09:24:17] WARNING: /workspace/src/objective/regression_obj.cu:152: reg:linear is now deprecated in favor of reg:squarederror.\n",
            "[CV]  max_depth=3, min_child_weight=5, n_estimators=100, score=-0.054, total=   7.5s\n",
            "[CV] max_depth=3, min_child_weight=5, n_estimators=100 ...............\n",
            "[09:24:24] WARNING: /workspace/src/objective/regression_obj.cu:152: reg:linear is now deprecated in favor of reg:squarederror.\n",
            "[CV]  max_depth=3, min_child_weight=5, n_estimators=100, score=-0.052, total=   7.4s\n",
            "[CV] max_depth=3, min_child_weight=5, n_estimators=100 ...............\n",
            "[09:24:32] WARNING: /workspace/src/objective/regression_obj.cu:152: reg:linear is now deprecated in favor of reg:squarederror.\n",
            "[CV]  max_depth=3, min_child_weight=5, n_estimators=100, score=-0.052, total=   7.4s\n",
            "[CV] max_depth=3, min_child_weight=5, n_estimators=100 ...............\n",
            "[09:24:39] WARNING: /workspace/src/objective/regression_obj.cu:152: reg:linear is now deprecated in favor of reg:squarederror.\n",
            "[CV]  max_depth=3, min_child_weight=5, n_estimators=100, score=-0.052, total=   7.5s\n",
            "[CV] max_depth=3, min_child_weight=5, n_estimators=200 ...............\n",
            "[09:24:47] WARNING: /workspace/src/objective/regression_obj.cu:152: reg:linear is now deprecated in favor of reg:squarederror.\n",
            "[CV]  max_depth=3, min_child_weight=5, n_estimators=200, score=-0.055, total=  14.7s\n",
            "[CV] max_depth=3, min_child_weight=5, n_estimators=200 ...............\n",
            "[09:25:01] WARNING: /workspace/src/objective/regression_obj.cu:152: reg:linear is now deprecated in favor of reg:squarederror.\n",
            "[CV]  max_depth=3, min_child_weight=5, n_estimators=200, score=-0.054, total=  14.7s\n",
            "[CV] max_depth=3, min_child_weight=5, n_estimators=200 ...............\n",
            "[09:25:16] WARNING: /workspace/src/objective/regression_obj.cu:152: reg:linear is now deprecated in favor of reg:squarederror.\n",
            "[CV]  max_depth=3, min_child_weight=5, n_estimators=200, score=-0.052, total=  14.7s\n",
            "[CV] max_depth=3, min_child_weight=5, n_estimators=200 ...............\n",
            "[09:25:31] WARNING: /workspace/src/objective/regression_obj.cu:152: reg:linear is now deprecated in favor of reg:squarederror.\n",
            "[CV]  max_depth=3, min_child_weight=5, n_estimators=200, score=-0.052, total=  14.9s\n",
            "[CV] max_depth=3, min_child_weight=5, n_estimators=200 ...............\n",
            "[09:25:46] WARNING: /workspace/src/objective/regression_obj.cu:152: reg:linear is now deprecated in favor of reg:squarederror.\n",
            "[CV]  max_depth=3, min_child_weight=5, n_estimators=200, score=-0.052, total=  15.3s\n",
            "[CV] max_depth=3, min_child_weight=5, n_estimators=1000 ..............\n",
            "[09:26:01] WARNING: /workspace/src/objective/regression_obj.cu:152: reg:linear is now deprecated in favor of reg:squarederror.\n",
            "[CV]  max_depth=3, min_child_weight=5, n_estimators=1000, score=-0.056, total= 1.2min\n",
            "[CV] max_depth=3, min_child_weight=5, n_estimators=1000 ..............\n",
            "[09:27:14] WARNING: /workspace/src/objective/regression_obj.cu:152: reg:linear is now deprecated in favor of reg:squarederror.\n",
            "[CV]  max_depth=3, min_child_weight=5, n_estimators=1000, score=-0.055, total= 1.2min\n",
            "[CV] max_depth=3, min_child_weight=5, n_estimators=1000 ..............\n",
            "[09:28:27] WARNING: /workspace/src/objective/regression_obj.cu:152: reg:linear is now deprecated in favor of reg:squarederror.\n",
            "[CV]  max_depth=3, min_child_weight=5, n_estimators=1000, score=-0.053, total= 1.2min\n",
            "[CV] max_depth=3, min_child_weight=5, n_estimators=1000 ..............\n",
            "[09:29:41] WARNING: /workspace/src/objective/regression_obj.cu:152: reg:linear is now deprecated in favor of reg:squarederror.\n",
            "[CV]  max_depth=3, min_child_weight=5, n_estimators=1000, score=-0.052, total= 1.2min\n",
            "[CV] max_depth=3, min_child_weight=5, n_estimators=1000 ..............\n",
            "[09:30:54] WARNING: /workspace/src/objective/regression_obj.cu:152: reg:linear is now deprecated in favor of reg:squarederror.\n",
            "[CV]  max_depth=3, min_child_weight=5, n_estimators=1000, score=-0.057, total= 1.2min\n",
            "[CV] max_depth=5, min_child_weight=1, n_estimators=10 ................\n",
            "[09:32:07] WARNING: /workspace/src/objective/regression_obj.cu:152: reg:linear is now deprecated in favor of reg:squarederror.\n",
            "[CV]  max_depth=5, min_child_weight=1, n_estimators=10, score=-0.175, total=   1.4s\n",
            "[CV] max_depth=5, min_child_weight=1, n_estimators=10 ................\n",
            "[09:32:08] WARNING: /workspace/src/objective/regression_obj.cu:152: reg:linear is now deprecated in favor of reg:squarederror.\n",
            "[CV]  max_depth=5, min_child_weight=1, n_estimators=10, score=-0.182, total=   1.4s\n",
            "[CV] max_depth=5, min_child_weight=1, n_estimators=10 ................\n",
            "[09:32:09] WARNING: /workspace/src/objective/regression_obj.cu:152: reg:linear is now deprecated in favor of reg:squarederror.\n",
            "[CV]  max_depth=5, min_child_weight=1, n_estimators=10, score=-0.179, total=   1.5s\n",
            "[CV] max_depth=5, min_child_weight=1, n_estimators=10 ................\n",
            "[09:32:11] WARNING: /workspace/src/objective/regression_obj.cu:152: reg:linear is now deprecated in favor of reg:squarederror.\n",
            "[CV]  max_depth=5, min_child_weight=1, n_estimators=10, score=-0.179, total=   1.4s\n",
            "[CV] max_depth=5, min_child_weight=1, n_estimators=10 ................\n",
            "[09:32:12] WARNING: /workspace/src/objective/regression_obj.cu:152: reg:linear is now deprecated in favor of reg:squarederror.\n",
            "[CV]  max_depth=5, min_child_weight=1, n_estimators=10, score=-0.172, total=   1.4s\n",
            "[CV] max_depth=5, min_child_weight=1, n_estimators=100 ...............\n",
            "[09:32:14] WARNING: /workspace/src/objective/regression_obj.cu:152: reg:linear is now deprecated in favor of reg:squarederror.\n",
            "[CV]  max_depth=5, min_child_weight=1, n_estimators=100, score=-0.055, total=  12.6s\n",
            "[CV] max_depth=5, min_child_weight=1, n_estimators=100 ...............\n",
            "[09:32:26] WARNING: /workspace/src/objective/regression_obj.cu:152: reg:linear is now deprecated in favor of reg:squarederror.\n",
            "[CV]  max_depth=5, min_child_weight=1, n_estimators=100, score=-0.054, total=  12.5s\n",
            "[CV] max_depth=5, min_child_weight=1, n_estimators=100 ...............\n",
            "[09:32:39] WARNING: /workspace/src/objective/regression_obj.cu:152: reg:linear is now deprecated in favor of reg:squarederror.\n",
            "[CV]  max_depth=5, min_child_weight=1, n_estimators=100, score=-0.052, total=  12.5s\n",
            "[CV] max_depth=5, min_child_weight=1, n_estimators=100 ...............\n",
            "[09:32:51] WARNING: /workspace/src/objective/regression_obj.cu:152: reg:linear is now deprecated in favor of reg:squarederror.\n",
            "[CV]  max_depth=5, min_child_weight=1, n_estimators=100, score=-0.052, total=  12.6s\n",
            "[CV] max_depth=5, min_child_weight=1, n_estimators=100 ...............\n",
            "[09:33:04] WARNING: /workspace/src/objective/regression_obj.cu:152: reg:linear is now deprecated in favor of reg:squarederror.\n",
            "[CV]  max_depth=5, min_child_weight=1, n_estimators=100, score=-0.052, total=  12.6s\n",
            "[CV] max_depth=5, min_child_weight=1, n_estimators=200 ...............\n",
            "[09:33:16] WARNING: /workspace/src/objective/regression_obj.cu:152: reg:linear is now deprecated in favor of reg:squarederror.\n",
            "[CV]  max_depth=5, min_child_weight=1, n_estimators=200, score=-0.055, total=  24.7s\n",
            "[CV] max_depth=5, min_child_weight=1, n_estimators=200 ...............\n",
            "[09:33:41] WARNING: /workspace/src/objective/regression_obj.cu:152: reg:linear is now deprecated in favor of reg:squarederror.\n",
            "[CV]  max_depth=5, min_child_weight=1, n_estimators=200, score=-0.054, total=  24.6s\n",
            "[CV] max_depth=5, min_child_weight=1, n_estimators=200 ...............\n",
            "[09:34:06] WARNING: /workspace/src/objective/regression_obj.cu:152: reg:linear is now deprecated in favor of reg:squarederror.\n",
            "[CV]  max_depth=5, min_child_weight=1, n_estimators=200, score=-0.052, total=  25.0s\n",
            "[CV] max_depth=5, min_child_weight=1, n_estimators=200 ...............\n",
            "[09:34:31] WARNING: /workspace/src/objective/regression_obj.cu:152: reg:linear is now deprecated in favor of reg:squarederror.\n",
            "[CV]  max_depth=5, min_child_weight=1, n_estimators=200, score=-0.052, total=  25.1s\n",
            "[CV] max_depth=5, min_child_weight=1, n_estimators=200 ...............\n",
            "[09:34:56] WARNING: /workspace/src/objective/regression_obj.cu:152: reg:linear is now deprecated in favor of reg:squarederror.\n",
            "[CV]  max_depth=5, min_child_weight=1, n_estimators=200, score=-0.055, total=  25.1s\n",
            "[CV] max_depth=5, min_child_weight=1, n_estimators=1000 ..............\n",
            "[09:35:21] WARNING: /workspace/src/objective/regression_obj.cu:152: reg:linear is now deprecated in favor of reg:squarederror.\n",
            "[CV]  max_depth=5, min_child_weight=1, n_estimators=1000, score=-0.057, total= 2.1min\n",
            "[CV] max_depth=5, min_child_weight=1, n_estimators=1000 ..............\n",
            "[09:37:27] WARNING: /workspace/src/objective/regression_obj.cu:152: reg:linear is now deprecated in favor of reg:squarederror.\n",
            "[CV]  max_depth=5, min_child_weight=1, n_estimators=1000, score=-0.055, total= 2.1min\n",
            "[CV] max_depth=5, min_child_weight=1, n_estimators=1000 ..............\n",
            "[09:39:31] WARNING: /workspace/src/objective/regression_obj.cu:152: reg:linear is now deprecated in favor of reg:squarederror.\n",
            "[CV]  max_depth=5, min_child_weight=1, n_estimators=1000, score=-0.053, total= 2.1min\n",
            "[CV] max_depth=5, min_child_weight=1, n_estimators=1000 ..............\n",
            "[09:41:36] WARNING: /workspace/src/objective/regression_obj.cu:152: reg:linear is now deprecated in favor of reg:squarederror.\n",
            "[CV]  max_depth=5, min_child_weight=1, n_estimators=1000, score=-0.053, total= 2.1min\n",
            "[CV] max_depth=5, min_child_weight=1, n_estimators=1000 ..............\n",
            "[09:43:39] WARNING: /workspace/src/objective/regression_obj.cu:152: reg:linear is now deprecated in favor of reg:squarederror.\n",
            "[CV]  max_depth=5, min_child_weight=1, n_estimators=1000, score=-0.066, total= 2.1min\n",
            "[CV] max_depth=5, min_child_weight=3, n_estimators=10 ................\n",
            "[09:45:46] WARNING: /workspace/src/objective/regression_obj.cu:152: reg:linear is now deprecated in favor of reg:squarederror.\n",
            "[CV]  max_depth=5, min_child_weight=3, n_estimators=10, score=-0.175, total=   1.4s\n",
            "[CV] max_depth=5, min_child_weight=3, n_estimators=10 ................\n",
            "[09:45:48] WARNING: /workspace/src/objective/regression_obj.cu:152: reg:linear is now deprecated in favor of reg:squarederror.\n",
            "[CV]  max_depth=5, min_child_weight=3, n_estimators=10, score=-0.182, total=   1.5s\n",
            "[CV] max_depth=5, min_child_weight=3, n_estimators=10 ................\n",
            "[09:45:49] WARNING: /workspace/src/objective/regression_obj.cu:152: reg:linear is now deprecated in favor of reg:squarederror.\n",
            "[CV]  max_depth=5, min_child_weight=3, n_estimators=10, score=-0.179, total=   1.5s\n",
            "[CV] max_depth=5, min_child_weight=3, n_estimators=10 ................\n",
            "[09:45:50] WARNING: /workspace/src/objective/regression_obj.cu:152: reg:linear is now deprecated in favor of reg:squarederror.\n",
            "[CV]  max_depth=5, min_child_weight=3, n_estimators=10, score=-0.179, total=   1.5s\n",
            "[CV] max_depth=5, min_child_weight=3, n_estimators=10 ................\n",
            "[09:45:52] WARNING: /workspace/src/objective/regression_obj.cu:152: reg:linear is now deprecated in favor of reg:squarederror.\n",
            "[CV]  max_depth=5, min_child_weight=3, n_estimators=10, score=-0.173, total=   1.5s\n",
            "[CV] max_depth=5, min_child_weight=3, n_estimators=100 ...............\n",
            "[09:45:53] WARNING: /workspace/src/objective/regression_obj.cu:152: reg:linear is now deprecated in favor of reg:squarederror.\n",
            "[CV]  max_depth=5, min_child_weight=3, n_estimators=100, score=-0.055, total=  12.9s\n",
            "[CV] max_depth=5, min_child_weight=3, n_estimators=100 ...............\n",
            "[09:46:06] WARNING: /workspace/src/objective/regression_obj.cu:152: reg:linear is now deprecated in favor of reg:squarederror.\n",
            "[CV]  max_depth=5, min_child_weight=3, n_estimators=100, score=-0.054, total=  12.9s\n",
            "[CV] max_depth=5, min_child_weight=3, n_estimators=100 ...............\n",
            "[09:46:19] WARNING: /workspace/src/objective/regression_obj.cu:152: reg:linear is now deprecated in favor of reg:squarederror.\n",
            "[CV]  max_depth=5, min_child_weight=3, n_estimators=100, score=-0.052, total=  12.7s\n",
            "[CV] max_depth=5, min_child_weight=3, n_estimators=100 ...............\n",
            "[09:46:32] WARNING: /workspace/src/objective/regression_obj.cu:152: reg:linear is now deprecated in favor of reg:squarederror.\n",
            "[CV]  max_depth=5, min_child_weight=3, n_estimators=100, score=-0.052, total=  12.7s\n",
            "[CV] max_depth=5, min_child_weight=3, n_estimators=100 ...............\n",
            "[09:46:45] WARNING: /workspace/src/objective/regression_obj.cu:152: reg:linear is now deprecated in favor of reg:squarederror.\n",
            "[CV]  max_depth=5, min_child_weight=3, n_estimators=100, score=-0.052, total=  12.8s\n",
            "[CV] max_depth=5, min_child_weight=3, n_estimators=200 ...............\n",
            "[09:46:58] WARNING: /workspace/src/objective/regression_obj.cu:152: reg:linear is now deprecated in favor of reg:squarederror.\n",
            "[CV]  max_depth=5, min_child_weight=3, n_estimators=200, score=-0.055, total=  25.5s\n",
            "[CV] max_depth=5, min_child_weight=3, n_estimators=200 ...............\n",
            "[09:47:23] WARNING: /workspace/src/objective/regression_obj.cu:152: reg:linear is now deprecated in favor of reg:squarederror.\n",
            "[CV]  max_depth=5, min_child_weight=3, n_estimators=200, score=-0.054, total=  25.4s\n",
            "[CV] max_depth=5, min_child_weight=3, n_estimators=200 ...............\n",
            "[09:47:49] WARNING: /workspace/src/objective/regression_obj.cu:152: reg:linear is now deprecated in favor of reg:squarederror.\n",
            "[CV]  max_depth=5, min_child_weight=3, n_estimators=200, score=-0.052, total=  25.3s\n",
            "[CV] max_depth=5, min_child_weight=3, n_estimators=200 ...............\n",
            "[09:48:14] WARNING: /workspace/src/objective/regression_obj.cu:152: reg:linear is now deprecated in favor of reg:squarederror.\n",
            "[CV]  max_depth=5, min_child_weight=3, n_estimators=200, score=-0.052, total=  24.9s\n",
            "[CV] max_depth=5, min_child_weight=3, n_estimators=200 ...............\n",
            "[09:48:39] WARNING: /workspace/src/objective/regression_obj.cu:152: reg:linear is now deprecated in favor of reg:squarederror.\n",
            "[CV]  max_depth=5, min_child_weight=3, n_estimators=200, score=-0.054, total=  24.9s\n",
            "[CV] max_depth=5, min_child_weight=3, n_estimators=1000 ..............\n",
            "[09:49:04] WARNING: /workspace/src/objective/regression_obj.cu:152: reg:linear is now deprecated in favor of reg:squarederror.\n",
            "[CV]  max_depth=5, min_child_weight=3, n_estimators=1000, score=-0.057, total= 2.0min\n",
            "[CV] max_depth=5, min_child_weight=3, n_estimators=1000 ..............\n",
            "[09:51:07] WARNING: /workspace/src/objective/regression_obj.cu:152: reg:linear is now deprecated in favor of reg:squarederror.\n",
            "[CV]  max_depth=5, min_child_weight=3, n_estimators=1000, score=-0.055, total= 2.0min\n",
            "[CV] max_depth=5, min_child_weight=3, n_estimators=1000 ..............\n",
            "[09:53:09] WARNING: /workspace/src/objective/regression_obj.cu:152: reg:linear is now deprecated in favor of reg:squarederror.\n",
            "[CV]  max_depth=5, min_child_weight=3, n_estimators=1000, score=-0.053, total= 2.0min\n",
            "[CV] max_depth=5, min_child_weight=3, n_estimators=1000 ..............\n",
            "[09:55:11] WARNING: /workspace/src/objective/regression_obj.cu:152: reg:linear is now deprecated in favor of reg:squarederror.\n",
            "[CV]  max_depth=5, min_child_weight=3, n_estimators=1000, score=-0.053, total= 2.1min\n",
            "[CV] max_depth=5, min_child_weight=3, n_estimators=1000 ..............\n",
            "[09:57:14] WARNING: /workspace/src/objective/regression_obj.cu:152: reg:linear is now deprecated in favor of reg:squarederror.\n",
            "[CV]  max_depth=5, min_child_weight=3, n_estimators=1000, score=-0.061, total= 2.1min\n",
            "[CV] max_depth=5, min_child_weight=5, n_estimators=10 ................\n",
            "[09:59:18] WARNING: /workspace/src/objective/regression_obj.cu:152: reg:linear is now deprecated in favor of reg:squarederror.\n",
            "[CV]  max_depth=5, min_child_weight=5, n_estimators=10, score=-0.175, total=   1.4s\n",
            "[CV] max_depth=5, min_child_weight=5, n_estimators=10 ................\n",
            "[09:59:19] WARNING: /workspace/src/objective/regression_obj.cu:152: reg:linear is now deprecated in favor of reg:squarederror.\n",
            "[CV]  max_depth=5, min_child_weight=5, n_estimators=10, score=-0.182, total=   1.4s\n",
            "[CV] max_depth=5, min_child_weight=5, n_estimators=10 ................\n",
            "[09:59:20] WARNING: /workspace/src/objective/regression_obj.cu:152: reg:linear is now deprecated in favor of reg:squarederror.\n",
            "[CV]  max_depth=5, min_child_weight=5, n_estimators=10, score=-0.179, total=   1.4s\n",
            "[CV] max_depth=5, min_child_weight=5, n_estimators=10 ................\n",
            "[09:59:22] WARNING: /workspace/src/objective/regression_obj.cu:152: reg:linear is now deprecated in favor of reg:squarederror.\n",
            "[CV]  max_depth=5, min_child_weight=5, n_estimators=10, score=-0.179, total=   1.4s\n",
            "[CV] max_depth=5, min_child_weight=5, n_estimators=10 ................\n",
            "[09:59:23] WARNING: /workspace/src/objective/regression_obj.cu:152: reg:linear is now deprecated in favor of reg:squarederror.\n",
            "[CV]  max_depth=5, min_child_weight=5, n_estimators=10, score=-0.172, total=   1.4s\n",
            "[CV] max_depth=5, min_child_weight=5, n_estimators=100 ...............\n",
            "[09:59:25] WARNING: /workspace/src/objective/regression_obj.cu:152: reg:linear is now deprecated in favor of reg:squarederror.\n",
            "[CV]  max_depth=5, min_child_weight=5, n_estimators=100, score=-0.055, total=  12.3s\n",
            "[CV] max_depth=5, min_child_weight=5, n_estimators=100 ...............\n",
            "[09:59:37] WARNING: /workspace/src/objective/regression_obj.cu:152: reg:linear is now deprecated in favor of reg:squarederror.\n",
            "[CV]  max_depth=5, min_child_weight=5, n_estimators=100, score=-0.054, total=  12.2s\n",
            "[CV] max_depth=5, min_child_weight=5, n_estimators=100 ...............\n",
            "[09:59:49] WARNING: /workspace/src/objective/regression_obj.cu:152: reg:linear is now deprecated in favor of reg:squarederror.\n",
            "[CV]  max_depth=5, min_child_weight=5, n_estimators=100, score=-0.052, total=  12.4s\n",
            "[CV] max_depth=5, min_child_weight=5, n_estimators=100 ...............\n",
            "[10:00:01] WARNING: /workspace/src/objective/regression_obj.cu:152: reg:linear is now deprecated in favor of reg:squarederror.\n",
            "[CV]  max_depth=5, min_child_weight=5, n_estimators=100, score=-0.052, total=  12.3s\n",
            "[CV] max_depth=5, min_child_weight=5, n_estimators=100 ...............\n",
            "[10:00:14] WARNING: /workspace/src/objective/regression_obj.cu:152: reg:linear is now deprecated in favor of reg:squarederror.\n",
            "[CV]  max_depth=5, min_child_weight=5, n_estimators=100, score=-0.052, total=  12.3s\n",
            "[CV] max_depth=5, min_child_weight=5, n_estimators=200 ...............\n",
            "[10:00:26] WARNING: /workspace/src/objective/regression_obj.cu:152: reg:linear is now deprecated in favor of reg:squarederror.\n",
            "[CV]  max_depth=5, min_child_weight=5, n_estimators=200, score=-0.055, total=  24.7s\n",
            "[CV] max_depth=5, min_child_weight=5, n_estimators=200 ...............\n",
            "[10:00:51] WARNING: /workspace/src/objective/regression_obj.cu:152: reg:linear is now deprecated in favor of reg:squarederror.\n",
            "[CV]  max_depth=5, min_child_weight=5, n_estimators=200, score=-0.054, total=  24.3s\n",
            "[CV] max_depth=5, min_child_weight=5, n_estimators=200 ...............\n",
            "[10:01:15] WARNING: /workspace/src/objective/regression_obj.cu:152: reg:linear is now deprecated in favor of reg:squarederror.\n",
            "[CV]  max_depth=5, min_child_weight=5, n_estimators=200, score=-0.052, total=  24.5s\n",
            "[CV] max_depth=5, min_child_weight=5, n_estimators=200 ...............\n",
            "[10:01:39] WARNING: /workspace/src/objective/regression_obj.cu:152: reg:linear is now deprecated in favor of reg:squarederror.\n",
            "[CV]  max_depth=5, min_child_weight=5, n_estimators=200, score=-0.052, total=  26.0s\n",
            "[CV] max_depth=5, min_child_weight=5, n_estimators=200 ...............\n",
            "[10:02:05] WARNING: /workspace/src/objective/regression_obj.cu:152: reg:linear is now deprecated in favor of reg:squarederror.\n",
            "[CV]  max_depth=5, min_child_weight=5, n_estimators=200, score=-0.053, total=  26.0s\n",
            "[CV] max_depth=5, min_child_weight=5, n_estimators=1000 ..............\n",
            "[10:02:31] WARNING: /workspace/src/objective/regression_obj.cu:152: reg:linear is now deprecated in favor of reg:squarederror.\n",
            "[CV]  max_depth=5, min_child_weight=5, n_estimators=1000, score=-0.057, total= 2.1min\n",
            "[CV] max_depth=5, min_child_weight=5, n_estimators=1000 ..............\n",
            "[10:04:35] WARNING: /workspace/src/objective/regression_obj.cu:152: reg:linear is now deprecated in favor of reg:squarederror.\n",
            "[CV]  max_depth=5, min_child_weight=5, n_estimators=1000, score=-0.055, total= 2.1min\n",
            "[CV] max_depth=5, min_child_weight=5, n_estimators=1000 ..............\n",
            "[10:06:38] WARNING: /workspace/src/objective/regression_obj.cu:152: reg:linear is now deprecated in favor of reg:squarederror.\n",
            "[CV]  max_depth=5, min_child_weight=5, n_estimators=1000, score=-0.053, total= 2.1min\n",
            "[CV] max_depth=5, min_child_weight=5, n_estimators=1000 ..............\n",
            "[10:08:45] WARNING: /workspace/src/objective/regression_obj.cu:152: reg:linear is now deprecated in favor of reg:squarederror.\n",
            "[CV]  max_depth=5, min_child_weight=5, n_estimators=1000, score=-0.053, total= 2.1min\n",
            "[CV] max_depth=5, min_child_weight=5, n_estimators=1000 ..............\n",
            "[10:10:50] WARNING: /workspace/src/objective/regression_obj.cu:152: reg:linear is now deprecated in favor of reg:squarederror.\n",
            "[CV]  max_depth=5, min_child_weight=5, n_estimators=1000, score=-0.061, total= 2.1min\n",
            "[CV] max_depth=7, min_child_weight=1, n_estimators=10 ................\n",
            "[10:12:57] WARNING: /workspace/src/objective/regression_obj.cu:152: reg:linear is now deprecated in favor of reg:squarederror.\n",
            "[CV]  max_depth=7, min_child_weight=1, n_estimators=10, score=-0.175, total=   2.1s\n",
            "[CV] max_depth=7, min_child_weight=1, n_estimators=10 ................\n",
            "[10:12:59] WARNING: /workspace/src/objective/regression_obj.cu:152: reg:linear is now deprecated in favor of reg:squarederror.\n",
            "[CV]  max_depth=7, min_child_weight=1, n_estimators=10, score=-0.182, total=   2.1s\n",
            "[CV] max_depth=7, min_child_weight=1, n_estimators=10 ................\n",
            "[10:13:01] WARNING: /workspace/src/objective/regression_obj.cu:152: reg:linear is now deprecated in favor of reg:squarederror.\n",
            "[CV]  max_depth=7, min_child_weight=1, n_estimators=10, score=-0.179, total=   2.1s\n",
            "[CV] max_depth=7, min_child_weight=1, n_estimators=10 ................\n",
            "[10:13:03] WARNING: /workspace/src/objective/regression_obj.cu:152: reg:linear is now deprecated in favor of reg:squarederror.\n",
            "[CV]  max_depth=7, min_child_weight=1, n_estimators=10, score=-0.179, total=   2.1s\n",
            "[CV] max_depth=7, min_child_weight=1, n_estimators=10 ................\n",
            "[10:13:05] WARNING: /workspace/src/objective/regression_obj.cu:152: reg:linear is now deprecated in favor of reg:squarederror.\n",
            "[CV]  max_depth=7, min_child_weight=1, n_estimators=10, score=-0.175, total=   2.1s\n",
            "[CV] max_depth=7, min_child_weight=1, n_estimators=100 ...............\n",
            "[10:13:07] WARNING: /workspace/src/objective/regression_obj.cu:152: reg:linear is now deprecated in favor of reg:squarederror.\n",
            "[CV]  max_depth=7, min_child_weight=1, n_estimators=100, score=-0.055, total=  18.9s\n",
            "[CV] max_depth=7, min_child_weight=1, n_estimators=100 ...............\n",
            "[10:13:26] WARNING: /workspace/src/objective/regression_obj.cu:152: reg:linear is now deprecated in favor of reg:squarederror.\n",
            "[CV]  max_depth=7, min_child_weight=1, n_estimators=100, score=-0.054, total=  18.8s\n",
            "[CV] max_depth=7, min_child_weight=1, n_estimators=100 ...............\n",
            "[10:13:45] WARNING: /workspace/src/objective/regression_obj.cu:152: reg:linear is now deprecated in favor of reg:squarederror.\n",
            "[CV]  max_depth=7, min_child_weight=1, n_estimators=100, score=-0.052, total=  19.1s\n",
            "[CV] max_depth=7, min_child_weight=1, n_estimators=100 ...............\n",
            "[10:14:04] WARNING: /workspace/src/objective/regression_obj.cu:152: reg:linear is now deprecated in favor of reg:squarederror.\n",
            "[CV]  max_depth=7, min_child_weight=1, n_estimators=100, score=-0.052, total=  18.8s\n",
            "[CV] max_depth=7, min_child_weight=1, n_estimators=100 ...............\n",
            "[10:14:23] WARNING: /workspace/src/objective/regression_obj.cu:152: reg:linear is now deprecated in favor of reg:squarederror.\n",
            "[CV]  max_depth=7, min_child_weight=1, n_estimators=100, score=-0.053, total=  18.8s\n",
            "[CV] max_depth=7, min_child_weight=1, n_estimators=200 ...............\n",
            "[10:14:42] WARNING: /workspace/src/objective/regression_obj.cu:152: reg:linear is now deprecated in favor of reg:squarederror.\n",
            "[CV]  max_depth=7, min_child_weight=1, n_estimators=200, score=-0.056, total=  37.3s\n",
            "[CV] max_depth=7, min_child_weight=1, n_estimators=200 ...............\n",
            "[10:15:19] WARNING: /workspace/src/objective/regression_obj.cu:152: reg:linear is now deprecated in favor of reg:squarederror.\n",
            "[CV]  max_depth=7, min_child_weight=1, n_estimators=200, score=-0.055, total=  36.8s\n",
            "[CV] max_depth=7, min_child_weight=1, n_estimators=200 ...............\n",
            "[10:15:56] WARNING: /workspace/src/objective/regression_obj.cu:152: reg:linear is now deprecated in favor of reg:squarederror.\n",
            "[CV]  max_depth=7, min_child_weight=1, n_estimators=200, score=-0.053, total=  37.0s\n",
            "[CV] max_depth=7, min_child_weight=1, n_estimators=200 ...............\n",
            "[10:16:33] WARNING: /workspace/src/objective/regression_obj.cu:152: reg:linear is now deprecated in favor of reg:squarederror.\n",
            "[CV]  max_depth=7, min_child_weight=1, n_estimators=200, score=-0.053, total=  36.7s\n",
            "[CV] max_depth=7, min_child_weight=1, n_estimators=200 ...............\n",
            "[10:17:09] WARNING: /workspace/src/objective/regression_obj.cu:152: reg:linear is now deprecated in favor of reg:squarederror.\n",
            "[CV]  max_depth=7, min_child_weight=1, n_estimators=200, score=-0.055, total=  36.9s\n",
            "[CV] max_depth=7, min_child_weight=1, n_estimators=1000 ..............\n",
            "[10:17:46] WARNING: /workspace/src/objective/regression_obj.cu:152: reg:linear is now deprecated in favor of reg:squarederror.\n",
            "[CV]  max_depth=7, min_child_weight=1, n_estimators=1000, score=-0.058, total= 3.1min\n",
            "[CV] max_depth=7, min_child_weight=1, n_estimators=1000 ..............\n",
            "[10:20:50] WARNING: /workspace/src/objective/regression_obj.cu:152: reg:linear is now deprecated in favor of reg:squarederror.\n",
            "[CV]  max_depth=7, min_child_weight=1, n_estimators=1000, score=-0.056, total= 3.0min\n",
            "[CV] max_depth=7, min_child_weight=1, n_estimators=1000 ..............\n",
            "[10:23:52] WARNING: /workspace/src/objective/regression_obj.cu:152: reg:linear is now deprecated in favor of reg:squarederror.\n",
            "[CV]  max_depth=7, min_child_weight=1, n_estimators=1000, score=-0.054, total= 3.1min\n",
            "[CV] max_depth=7, min_child_weight=1, n_estimators=1000 ..............\n",
            "[10:26:56] WARNING: /workspace/src/objective/regression_obj.cu:152: reg:linear is now deprecated in favor of reg:squarederror.\n",
            "[CV]  max_depth=7, min_child_weight=1, n_estimators=1000, score=-0.055, total= 3.1min\n",
            "[CV] max_depth=7, min_child_weight=1, n_estimators=1000 ..............\n",
            "[10:29:59] WARNING: /workspace/src/objective/regression_obj.cu:152: reg:linear is now deprecated in favor of reg:squarederror.\n",
            "[CV]  max_depth=7, min_child_weight=1, n_estimators=1000, score=-0.067, total= 3.0min\n",
            "[CV] max_depth=7, min_child_weight=3, n_estimators=10 ................\n",
            "[10:33:01] WARNING: /workspace/src/objective/regression_obj.cu:152: reg:linear is now deprecated in favor of reg:squarederror.\n",
            "[CV]  max_depth=7, min_child_weight=3, n_estimators=10, score=-0.175, total=   2.0s\n",
            "[CV] max_depth=7, min_child_weight=3, n_estimators=10 ................\n",
            "[10:33:03] WARNING: /workspace/src/objective/regression_obj.cu:152: reg:linear is now deprecated in favor of reg:squarederror.\n",
            "[CV]  max_depth=7, min_child_weight=3, n_estimators=10, score=-0.182, total=   1.9s\n",
            "[CV] max_depth=7, min_child_weight=3, n_estimators=10 ................\n",
            "[10:33:04] WARNING: /workspace/src/objective/regression_obj.cu:152: reg:linear is now deprecated in favor of reg:squarederror.\n",
            "[CV]  max_depth=7, min_child_weight=3, n_estimators=10, score=-0.179, total=   2.0s\n",
            "[CV] max_depth=7, min_child_weight=3, n_estimators=10 ................\n",
            "[10:33:06] WARNING: /workspace/src/objective/regression_obj.cu:152: reg:linear is now deprecated in favor of reg:squarederror.\n",
            "[CV]  max_depth=7, min_child_weight=3, n_estimators=10, score=-0.179, total=   2.0s\n",
            "[CV] max_depth=7, min_child_weight=3, n_estimators=10 ................\n",
            "[10:33:08] WARNING: /workspace/src/objective/regression_obj.cu:152: reg:linear is now deprecated in favor of reg:squarederror.\n",
            "[CV]  max_depth=7, min_child_weight=3, n_estimators=10, score=-0.174, total=   2.0s\n",
            "[CV] max_depth=7, min_child_weight=3, n_estimators=100 ...............\n",
            "[10:33:10] WARNING: /workspace/src/objective/regression_obj.cu:152: reg:linear is now deprecated in favor of reg:squarederror.\n",
            "[CV]  max_depth=7, min_child_weight=3, n_estimators=100, score=-0.055, total=  18.0s\n",
            "[CV] max_depth=7, min_child_weight=3, n_estimators=100 ...............\n",
            "[10:33:28] WARNING: /workspace/src/objective/regression_obj.cu:152: reg:linear is now deprecated in favor of reg:squarederror.\n",
            "[CV]  max_depth=7, min_child_weight=3, n_estimators=100, score=-0.054, total=  18.5s\n",
            "[CV] max_depth=7, min_child_weight=3, n_estimators=100 ...............\n",
            "[10:33:47] WARNING: /workspace/src/objective/regression_obj.cu:152: reg:linear is now deprecated in favor of reg:squarederror.\n",
            "[CV]  max_depth=7, min_child_weight=3, n_estimators=100, score=-0.052, total=  18.2s\n",
            "[CV] max_depth=7, min_child_weight=3, n_estimators=100 ...............\n",
            "[10:34:05] WARNING: /workspace/src/objective/regression_obj.cu:152: reg:linear is now deprecated in favor of reg:squarederror.\n",
            "[CV]  max_depth=7, min_child_weight=3, n_estimators=100, score=-0.052, total=  18.0s\n",
            "[CV] max_depth=7, min_child_weight=3, n_estimators=100 ...............\n",
            "[10:34:23] WARNING: /workspace/src/objective/regression_obj.cu:152: reg:linear is now deprecated in favor of reg:squarederror.\n",
            "[CV]  max_depth=7, min_child_weight=3, n_estimators=100, score=-0.054, total=  18.2s\n",
            "[CV] max_depth=7, min_child_weight=3, n_estimators=200 ...............\n",
            "[10:34:41] WARNING: /workspace/src/objective/regression_obj.cu:152: reg:linear is now deprecated in favor of reg:squarederror.\n",
            "[CV]  max_depth=7, min_child_weight=3, n_estimators=200, score=-0.056, total=  34.8s\n",
            "[CV] max_depth=7, min_child_weight=3, n_estimators=200 ...............\n",
            "[10:35:16] WARNING: /workspace/src/objective/regression_obj.cu:152: reg:linear is now deprecated in favor of reg:squarederror.\n",
            "[CV]  max_depth=7, min_child_weight=3, n_estimators=200, score=-0.054, total=  34.7s\n",
            "[CV] max_depth=7, min_child_weight=3, n_estimators=200 ...............\n",
            "[10:35:51] WARNING: /workspace/src/objective/regression_obj.cu:152: reg:linear is now deprecated in favor of reg:squarederror.\n",
            "[CV]  max_depth=7, min_child_weight=3, n_estimators=200, score=-0.053, total=  35.1s\n",
            "[CV] max_depth=7, min_child_weight=3, n_estimators=200 ...............\n",
            "[10:36:26] WARNING: /workspace/src/objective/regression_obj.cu:152: reg:linear is now deprecated in favor of reg:squarederror.\n",
            "[CV]  max_depth=7, min_child_weight=3, n_estimators=200, score=-0.053, total=  34.9s\n",
            "[CV] max_depth=7, min_child_weight=3, n_estimators=200 ...............\n",
            "[10:37:01] WARNING: /workspace/src/objective/regression_obj.cu:152: reg:linear is now deprecated in favor of reg:squarederror.\n",
            "[CV]  max_depth=7, min_child_weight=3, n_estimators=200, score=-0.057, total=  35.3s\n",
            "[CV] max_depth=7, min_child_weight=3, n_estimators=1000 ..............\n",
            "[10:37:36] WARNING: /workspace/src/objective/regression_obj.cu:152: reg:linear is now deprecated in favor of reg:squarederror.\n",
            "[CV]  max_depth=7, min_child_weight=3, n_estimators=1000, score=-0.059, total= 2.9min\n",
            "[CV] max_depth=7, min_child_weight=3, n_estimators=1000 ..............\n",
            "[10:40:32] WARNING: /workspace/src/objective/regression_obj.cu:152: reg:linear is now deprecated in favor of reg:squarederror.\n",
            "[CV]  max_depth=7, min_child_weight=3, n_estimators=1000, score=-0.056, total= 2.9min\n",
            "[CV] max_depth=7, min_child_weight=3, n_estimators=1000 ..............\n",
            "[10:43:26] WARNING: /workspace/src/objective/regression_obj.cu:152: reg:linear is now deprecated in favor of reg:squarederror.\n",
            "[CV]  max_depth=7, min_child_weight=3, n_estimators=1000, score=-0.054, total= 2.9min\n",
            "[CV] max_depth=7, min_child_weight=3, n_estimators=1000 ..............\n",
            "[10:46:19] WARNING: /workspace/src/objective/regression_obj.cu:152: reg:linear is now deprecated in favor of reg:squarederror.\n",
            "[CV]  max_depth=7, min_child_weight=3, n_estimators=1000, score=-0.055, total= 2.9min\n",
            "[CV] max_depth=7, min_child_weight=3, n_estimators=1000 ..............\n",
            "[10:49:15] WARNING: /workspace/src/objective/regression_obj.cu:152: reg:linear is now deprecated in favor of reg:squarederror.\n",
            "[CV]  max_depth=7, min_child_weight=3, n_estimators=1000, score=-0.067, total= 3.0min\n",
            "[CV] max_depth=7, min_child_weight=5, n_estimators=10 ................\n",
            "[10:52:13] WARNING: /workspace/src/objective/regression_obj.cu:152: reg:linear is now deprecated in favor of reg:squarederror.\n",
            "[CV]  max_depth=7, min_child_weight=5, n_estimators=10, score=-0.175, total=   1.9s\n",
            "[CV] max_depth=7, min_child_weight=5, n_estimators=10 ................\n",
            "[10:52:15] WARNING: /workspace/src/objective/regression_obj.cu:152: reg:linear is now deprecated in favor of reg:squarederror.\n",
            "[CV]  max_depth=7, min_child_weight=5, n_estimators=10, score=-0.182, total=   2.0s\n",
            "[CV] max_depth=7, min_child_weight=5, n_estimators=10 ................\n",
            "[10:52:17] WARNING: /workspace/src/objective/regression_obj.cu:152: reg:linear is now deprecated in favor of reg:squarederror.\n",
            "[CV]  max_depth=7, min_child_weight=5, n_estimators=10, score=-0.179, total=   2.1s\n",
            "[CV] max_depth=7, min_child_weight=5, n_estimators=10 ................\n",
            "[10:52:19] WARNING: /workspace/src/objective/regression_obj.cu:152: reg:linear is now deprecated in favor of reg:squarederror.\n",
            "[CV]  max_depth=7, min_child_weight=5, n_estimators=10, score=-0.179, total=   2.0s\n",
            "[CV] max_depth=7, min_child_weight=5, n_estimators=10 ................\n",
            "[10:52:21] WARNING: /workspace/src/objective/regression_obj.cu:152: reg:linear is now deprecated in favor of reg:squarederror.\n",
            "[CV]  max_depth=7, min_child_weight=5, n_estimators=10, score=-0.174, total=   2.0s\n",
            "[CV] max_depth=7, min_child_weight=5, n_estimators=100 ...............\n",
            "[10:52:23] WARNING: /workspace/src/objective/regression_obj.cu:152: reg:linear is now deprecated in favor of reg:squarederror.\n",
            "[CV]  max_depth=7, min_child_weight=5, n_estimators=100, score=-0.056, total=  17.7s\n",
            "[CV] max_depth=7, min_child_weight=5, n_estimators=100 ...............\n",
            "[10:52:40] WARNING: /workspace/src/objective/regression_obj.cu:152: reg:linear is now deprecated in favor of reg:squarederror.\n",
            "[CV]  max_depth=7, min_child_weight=5, n_estimators=100, score=-0.054, total=  17.6s\n",
            "[CV] max_depth=7, min_child_weight=5, n_estimators=100 ...............\n",
            "[10:52:58] WARNING: /workspace/src/objective/regression_obj.cu:152: reg:linear is now deprecated in favor of reg:squarederror.\n",
            "[CV]  max_depth=7, min_child_weight=5, n_estimators=100, score=-0.052, total=  17.8s\n",
            "[CV] max_depth=7, min_child_weight=5, n_estimators=100 ...............\n",
            "[10:53:16] WARNING: /workspace/src/objective/regression_obj.cu:152: reg:linear is now deprecated in favor of reg:squarederror.\n",
            "[CV]  max_depth=7, min_child_weight=5, n_estimators=100, score=-0.052, total=  17.8s\n",
            "[CV] max_depth=7, min_child_weight=5, n_estimators=100 ...............\n",
            "[10:53:33] WARNING: /workspace/src/objective/regression_obj.cu:152: reg:linear is now deprecated in favor of reg:squarederror.\n",
            "[CV]  max_depth=7, min_child_weight=5, n_estimators=100, score=-0.053, total=  17.8s\n",
            "[CV] max_depth=7, min_child_weight=5, n_estimators=200 ...............\n",
            "[10:53:51] WARNING: /workspace/src/objective/regression_obj.cu:152: reg:linear is now deprecated in favor of reg:squarederror.\n",
            "[CV]  max_depth=7, min_child_weight=5, n_estimators=200, score=-0.056, total=  35.7s\n",
            "[CV] max_depth=7, min_child_weight=5, n_estimators=200 ...............\n",
            "[10:54:27] WARNING: /workspace/src/objective/regression_obj.cu:152: reg:linear is now deprecated in favor of reg:squarederror.\n",
            "[CV]  max_depth=7, min_child_weight=5, n_estimators=200, score=-0.055, total=  35.6s\n",
            "[CV] max_depth=7, min_child_weight=5, n_estimators=200 ...............\n",
            "[10:55:03] WARNING: /workspace/src/objective/regression_obj.cu:152: reg:linear is now deprecated in favor of reg:squarederror.\n",
            "[CV]  max_depth=7, min_child_weight=5, n_estimators=200, score=-0.053, total=  35.3s\n",
            "[CV] max_depth=7, min_child_weight=5, n_estimators=200 ...............\n",
            "[10:55:38] WARNING: /workspace/src/objective/regression_obj.cu:152: reg:linear is now deprecated in favor of reg:squarederror.\n",
            "[CV]  max_depth=7, min_child_weight=5, n_estimators=200, score=-0.053, total=  35.4s\n",
            "[CV] max_depth=7, min_child_weight=5, n_estimators=200 ...............\n",
            "[10:56:13] WARNING: /workspace/src/objective/regression_obj.cu:152: reg:linear is now deprecated in favor of reg:squarederror.\n",
            "[CV]  max_depth=7, min_child_weight=5, n_estimators=200, score=-0.056, total=  35.7s\n",
            "[CV] max_depth=7, min_child_weight=5, n_estimators=1000 ..............\n",
            "[10:56:49] WARNING: /workspace/src/objective/regression_obj.cu:152: reg:linear is now deprecated in favor of reg:squarederror.\n",
            "[CV]  max_depth=7, min_child_weight=5, n_estimators=1000, score=-0.059, total= 3.0min\n",
            "[CV] max_depth=7, min_child_weight=5, n_estimators=1000 ..............\n",
            "[10:59:46] WARNING: /workspace/src/objective/regression_obj.cu:152: reg:linear is now deprecated in favor of reg:squarederror.\n",
            "[CV]  max_depth=7, min_child_weight=5, n_estimators=1000, score=-0.056, total= 2.9min\n",
            "[CV] max_depth=7, min_child_weight=5, n_estimators=1000 ..............\n",
            "[11:02:41] WARNING: /workspace/src/objective/regression_obj.cu:152: reg:linear is now deprecated in favor of reg:squarederror.\n",
            "[CV]  max_depth=7, min_child_weight=5, n_estimators=1000, score=-0.054, total= 2.9min\n",
            "[CV] max_depth=7, min_child_weight=5, n_estimators=1000 ..............\n",
            "[11:05:36] WARNING: /workspace/src/objective/regression_obj.cu:152: reg:linear is now deprecated in favor of reg:squarederror.\n",
            "[CV]  max_depth=7, min_child_weight=5, n_estimators=1000, score=-0.055, total= 3.0min\n",
            "[CV] max_depth=7, min_child_weight=5, n_estimators=1000 ..............\n",
            "[11:08:36] WARNING: /workspace/src/objective/regression_obj.cu:152: reg:linear is now deprecated in favor of reg:squarederror.\n",
            "[CV]  max_depth=7, min_child_weight=5, n_estimators=1000, score=-0.065, total= 3.0min\n",
            "[11:11:36] WARNING: /workspace/src/objective/regression_obj.cu:152: reg:linear is now deprecated in favor of reg:squarederror.\n"
          ],
          "name": "stdout"
        },
        {
          "output_type": "stream",
          "text": [
            "[Parallel(n_jobs=1)]: Done 180 out of 180 | elapsed: 123.8min finished\n"
          ],
          "name": "stderr"
        },
        {
          "output_type": "stream",
          "text": [
            "Best Score- -0.05313773974776268\n",
            "Best Parameters- {'max_depth': 3, 'min_child_weight': 5, 'n_estimators': 100}\n",
            "Best Estimator- XGBRegressor(base_score=0.5, booster='gbtree', colsample_bylevel=1,\n",
            "             colsample_bynode=1, colsample_bytree=1, gamma=0,\n",
            "             importance_type='gain', learning_rate=0.1, max_delta_step=0,\n",
            "             max_depth=3, min_child_weight=5, missing=None, n_estimators=100,\n",
            "             n_jobs=1, nthread=None, objective='reg:linear', random_state=0,\n",
            "             reg_alpha=0, reg_lambda=1, scale_pos_weight=1, seed=None,\n",
            "             silent=None, subsample=1, verbosity=1)\n"
          ],
          "name": "stdout"
        }
      ]
    },
    {
      "cell_type": "code",
      "metadata": {
        "id": "MOgA9Sm0E_0d",
        "colab_type": "code",
        "colab": {}
      },
      "source": [
        "for c, dtype in zip(prop.columns, prop.dtypes):\n",
        "\tif dtype == np.float64:\n",
        "\t\tprop[c] = prop[c].astype(np.float32)"
      ],
      "execution_count": 0,
      "outputs": []
    },
    {
      "cell_type": "code",
      "metadata": {
        "id": "X7QYmfByE_0h",
        "colab_type": "code",
        "outputId": "0c2f141a-d293-4a09-fdef-939438845b9e",
        "colab": {
          "base_uri": "https://localhost:8080/",
          "height": 34
        }
      },
      "source": [
        "df_train = train.merge(prop, how='left', on='parcelid')\n",
        "\n",
        "x_train = df_train.drop(['parcelid', 'logerror', 'transactiondate', 'propertyzoningdesc', 'propertycountylandusecode'], axis=1)\n",
        "y_train = df_train['logerror'].values\n",
        "print(x_train.shape, y_train.shape)"
      ],
      "execution_count": 0,
      "outputs": [
        {
          "output_type": "stream",
          "text": [
            "(90275, 55) (90275,)\n"
          ],
          "name": "stdout"
        }
      ]
    },
    {
      "cell_type": "code",
      "metadata": {
        "id": "KxT6HNxjE_0j",
        "colab_type": "code",
        "outputId": "a67af08b-7c3d-4662-cbcd-405b1b332e03",
        "colab": {
          "base_uri": "https://localhost:8080/",
          "height": 34
        }
      },
      "source": [
        "train_columns = x_train.columns\n",
        "\n",
        "for c in x_train.dtypes[x_train.dtypes == object].index.values:\n",
        "    x_train[c] = (x_train[c] == True)\n",
        "\n",
        "del df_train; gc.collect()"
      ],
      "execution_count": 0,
      "outputs": [
        {
          "output_type": "execute_result",
          "data": {
            "text/plain": [
              "33"
            ]
          },
          "metadata": {
            "tags": []
          },
          "execution_count": 12
        }
      ]
    },
    {
      "cell_type": "code",
      "metadata": {
        "id": "lhPxADrQE_0m",
        "colab_type": "code",
        "outputId": "8e5e8d2a-b621-4367-94d7-42e9474e4db1",
        "colab": {
          "base_uri": "https://localhost:8080/",
          "height": 50
        }
      },
      "source": [
        "split = 80000\n",
        "x_train, y_train, x_valid, y_valid = x_train[:split], y_train[:split], x_train[split:], y_train[split:]\n",
        "\n",
        "print('Building DMatrix...')\n",
        "\n",
        "d_train = xgb.DMatrix(x_train, label=y_train)\n",
        "d_valid = xgb.DMatrix(x_valid, label=y_valid)\n",
        "\n",
        "del x_train, x_valid; gc.collect()\n",
        "\n",
        "print('Training ...')"
      ],
      "execution_count": 0,
      "outputs": [
        {
          "output_type": "stream",
          "text": [
            "Building DMatrix...\n",
            "Training ...\n"
          ],
          "name": "stdout"
        }
      ]
    },
    {
      "cell_type": "code",
      "metadata": {
        "id": "b5ahwF1iE_0p",
        "colab_type": "code",
        "outputId": "9594e5cf-218a-4337-e142-74c4df8b86e8",
        "colab": {
          "base_uri": "https://localhost:8080/",
          "height": 806
        }
      },
      "source": [
        "params = {}\n",
        "params['eta'] = 0.02\n",
        "params['objective'] = 'reg:linear'\n",
        "params['eval_metric'] = 'mae'\n",
        "params['max_depth'] = 4\n",
        "params['silent'] = 1\n",
        "\n",
        "watchlist = [(d_train, 'train'), (d_valid, 'valid')]\n",
        "clf = xgb.train(params, d_train, 10000, watchlist, early_stopping_rounds=100, verbose_eval=10)\n",
        "\n",
        "del d_train, d_valid\n",
        "\n",
        "print('Building test set ...')\n",
        "\n",
        "sample['parcelid'] = sample['ParcelId']\n",
        "df_test = sample.merge(prop, on='parcelid', how='left')"
      ],
      "execution_count": 0,
      "outputs": [
        {
          "output_type": "stream",
          "text": [
            "[0]\ttrain-mae:0.48808\tvalid-mae:0.481119\n",
            "Multiple eval metrics have been passed: 'valid-mae' will be used for early stopping.\n",
            "\n",
            "Will train until valid-mae hasn't improved in 100 rounds.\n",
            "[10]\ttrain-mae:0.402199\tvalid-mae:0.395444\n",
            "[20]\ttrain-mae:0.332673\tvalid-mae:0.326099\n",
            "[30]\ttrain-mae:0.276517\tvalid-mae:0.270132\n",
            "[40]\ttrain-mae:0.231317\tvalid-mae:0.225214\n",
            "[50]\ttrain-mae:0.195064\tvalid-mae:0.189327\n",
            "[60]\ttrain-mae:0.166123\tvalid-mae:0.160725\n",
            "[70]\ttrain-mae:0.143115\tvalid-mae:0.13805\n",
            "[80]\ttrain-mae:0.124972\tvalid-mae:0.120241\n",
            "[90]\ttrain-mae:0.110785\tvalid-mae:0.106352\n",
            "[100]\ttrain-mae:0.099816\tvalid-mae:0.095695\n",
            "[110]\ttrain-mae:0.091452\tvalid-mae:0.087611\n",
            "[120]\ttrain-mae:0.085137\tvalid-mae:0.081602\n",
            "[130]\ttrain-mae:0.080447\tvalid-mae:0.077224\n",
            "[140]\ttrain-mae:0.077012\tvalid-mae:0.074089\n",
            "[150]\ttrain-mae:0.074499\tvalid-mae:0.07184\n",
            "[160]\ttrain-mae:0.072682\tvalid-mae:0.070257\n",
            "[170]\ttrain-mae:0.071361\tvalid-mae:0.069146\n",
            "[180]\ttrain-mae:0.070406\tvalid-mae:0.068383\n",
            "[190]\ttrain-mae:0.06971\tvalid-mae:0.067882\n",
            "[200]\ttrain-mae:0.0692\tvalid-mae:0.067532\n",
            "[210]\ttrain-mae:0.068821\tvalid-mae:0.067292\n",
            "[220]\ttrain-mae:0.068541\tvalid-mae:0.067139\n",
            "[230]\ttrain-mae:0.068328\tvalid-mae:0.067037\n",
            "[240]\ttrain-mae:0.068161\tvalid-mae:0.066967\n",
            "[250]\ttrain-mae:0.068034\tvalid-mae:0.066927\n",
            "[260]\ttrain-mae:0.067932\tvalid-mae:0.066906\n",
            "[270]\ttrain-mae:0.067852\tvalid-mae:0.066887\n",
            "[280]\ttrain-mae:0.067791\tvalid-mae:0.066882\n",
            "[290]\ttrain-mae:0.067737\tvalid-mae:0.066876\n",
            "[300]\ttrain-mae:0.06769\tvalid-mae:0.066874\n",
            "[310]\ttrain-mae:0.067649\tvalid-mae:0.066877\n",
            "[320]\ttrain-mae:0.067618\tvalid-mae:0.066878\n",
            "[330]\ttrain-mae:0.067589\tvalid-mae:0.066885\n",
            "[340]\ttrain-mae:0.067561\tvalid-mae:0.066893\n",
            "[350]\ttrain-mae:0.06754\tvalid-mae:0.066894\n",
            "[360]\ttrain-mae:0.067521\tvalid-mae:0.066906\n",
            "[370]\ttrain-mae:0.067501\tvalid-mae:0.066915\n",
            "[380]\ttrain-mae:0.067484\tvalid-mae:0.066919\n",
            "[390]\ttrain-mae:0.067467\tvalid-mae:0.066926\n",
            "Stopping. Best iteration:\n",
            "[298]\ttrain-mae:0.0677\tvalid-mae:0.066873\n",
            "\n",
            "Building test set ...\n"
          ],
          "name": "stdout"
        }
      ]
    },
    {
      "cell_type": "code",
      "metadata": {
        "id": "sFnPAuRgE_0r",
        "colab_type": "code",
        "outputId": "084aee84-4299-4ac1-ebe2-5437871134e2",
        "colab": {
          "base_uri": "https://localhost:8080/",
          "height": 151
        }
      },
      "source": [
        "del prop; gc.collect()\n",
        "\n",
        "x_test = df_test[train_columns]\n",
        "for c in x_test.dtypes[x_test.dtypes == object].index.values:\n",
        "    x_test[c] = (x_test[c] == True)\n",
        "\n",
        "del df_test, sample; gc.collect()\n",
        "\n",
        "d_test = xgb.DMatrix(x_test)\n",
        "\n",
        "del x_test; gc.collect()\n",
        "\n",
        "print('Predicting on test ...')\n",
        "\n",
        "p_test = clf.predict(d_test)\n",
        "\n",
        "del d_test; gc.collect()\n"
      ],
      "execution_count": 0,
      "outputs": [
        {
          "output_type": "stream",
          "text": [
            "/usr/local/lib/python3.6/dist-packages/ipykernel_launcher.py:5: SettingWithCopyWarning: \n",
            "A value is trying to be set on a copy of a slice from a DataFrame.\n",
            "Try using .loc[row_indexer,col_indexer] = value instead\n",
            "\n",
            "See the caveats in the documentation: https://pandas.pydata.org/pandas-docs/stable/user_guide/indexing.html#returning-a-view-versus-a-copy\n",
            "  \"\"\"\n"
          ],
          "name": "stderr"
        },
        {
          "output_type": "stream",
          "text": [
            "Predicting on test ...\n"
          ],
          "name": "stdout"
        },
        {
          "output_type": "execute_result",
          "data": {
            "text/plain": [
              "0"
            ]
          },
          "metadata": {
            "tags": []
          },
          "execution_count": 15
        }
      ]
    },
    {
      "cell_type": "code",
      "metadata": {
        "id": "k-FhGdCGE_0t",
        "colab_type": "code",
        "outputId": "2a358d6c-97ad-468b-97ad-47f50dbcf3d9",
        "colab": {
          "base_uri": "https://localhost:8080/",
          "height": 34
        }
      },
      "source": [
        "sub = pd.read_csv('data/zillow-prize-1/sample_submission.csv')\n",
        "for c in sub.columns[sub.columns != 'ParcelId']:\n",
        "    sub[c] = p_test\n",
        "\n",
        "print('Writing csv ...')\n",
        "sub.to_csv('xgb_starter.csv', index=False, float_format='%.4f')"
      ],
      "execution_count": 0,
      "outputs": [
        {
          "output_type": "stream",
          "text": [
            "Writing csv ...\n"
          ],
          "name": "stdout"
        }
      ]
    },
    {
      "cell_type": "code",
      "metadata": {
        "id": "lh-l18yGM5CZ",
        "colab_type": "code",
        "colab": {}
      },
      "source": [
        ""
      ],
      "execution_count": 0,
      "outputs": []
    },
    {
      "cell_type": "markdown",
      "metadata": {
        "id": "nt2P-t3olqkw",
        "colab_type": "text"
      },
      "source": [
        "# New Section"
      ]
    }
  ]
}